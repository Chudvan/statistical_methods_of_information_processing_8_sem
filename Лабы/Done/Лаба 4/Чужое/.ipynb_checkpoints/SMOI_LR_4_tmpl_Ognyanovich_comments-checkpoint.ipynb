{
 "cells": [
  {
   "cell_type": "markdown",
   "metadata": {},
   "source": [
    "### Лабораторная работа №4\n",
    "####  Исследование абсолютно-оптимальных рекуррентных алгоритмов"
   ]
  },
  {
   "cell_type": "markdown",
   "metadata": {},
   "source": [
    "Для оценки эффективности абсолютно-оптимальных алгоритмов рассмотрим задачу идентификации параметров линейного регрессионного объекта вида:\n",
    "\\begin{equation}y(i)=с_{0}+с_{1}u_{1}(i)+...+с_{4}u_{4}(i)+\\eta(i)\\end{equation}"
   ]
  },
  {
   "cell_type": "markdown",
   "metadata": {},
   "source": [
    "Пусть шум измерений $\\eta(i)$ имеет распределение Коши:\n",
    "\\begin{equation*}\n",
    "f(\\eta)=\\frac{1}{\\pi s}\\frac{1}{(1+(\\eta/s)^2)}\n",
    "\\end{equation*}"
   ]
  },
  {
   "cell_type": "code",
   "execution_count": 314,
   "metadata": {},
   "outputs": [],
   "source": [
    "import numpy as np\n",
    "import scipy.stats as st\n",
    "import matplotlib.pyplot as plt\n",
    "import math"
   ]
  },
  {
   "cell_type": "code",
   "execution_count": 315,
   "metadata": {},
   "outputs": [],
   "source": [
    "# параметры объекта для варианта №6\n",
    "c0=1.9\n",
    "c1=-0.9\n",
    "c2=-0.8\n",
    "c3=0\n",
    "c4=2.5"
   ]
  },
  {
   "cell_type": "code",
   "execution_count": 316,
   "metadata": {},
   "outputs": [],
   "source": [
    "# количество измерений\n",
    "N=200"
   ]
  },
  {
   "cell_type": "code",
   "execution_count": 317,
   "metadata": {},
   "outputs": [],
   "source": [
    "np.random.seed(300)"
   ]
  },
  {
   "cell_type": "code",
   "execution_count": 347,
   "metadata": {},
   "outputs": [],
   "source": [
    "# параметр распределения Коши\n",
    "s=10"
   ]
  },
  {
   "cell_type": "code",
   "execution_count": 348,
   "metadata": {},
   "outputs": [],
   "source": [
    "Noise=st.cauchy.rvs(loc=0, scale=s, size=N)"
   ]
  },
  {
   "cell_type": "code",
   "execution_count": 349,
   "metadata": {},
   "outputs": [],
   "source": [
    "# параметры распределения для генерации «входов» объекта:\n",
    "Avg_U1=1\n",
    "Var_U1=50\n",
    "Avg_U2=Avg_U1\n",
    "Var_U2=Var_U1\n",
    "Avg_U3=Avg_U1\n",
    "Var_U3=Var_U1\n",
    "Avg_U4=Avg_U1\n",
    "Var_U4=Var_U1"
   ]
  },
  {
   "cell_type": "code",
   "execution_count": 350,
   "metadata": {},
   "outputs": [],
   "source": [
    "# моделирование входов объекта\n",
    "U1=np.random.normal(Avg_U1,Var_U1,size=N)\n",
    "U2=np.random.normal(Avg_U2,Var_U2,size=N)\n",
    "U3=np.random.normal(Avg_U3,Var_U3,size=N)\n",
    "U4=np.random.normal(Avg_U4,Var_U4,size=N)"
   ]
  },
  {
   "cell_type": "code",
   "execution_count": 351,
   "metadata": {},
   "outputs": [
    {
     "data": {
      "text/plain": [
       "array([ -55.48572283,   67.74740511,   22.93159817,  -10.36988879,\n",
       "        -66.87461455,   45.82914295,   -4.28764598,  143.82684358,\n",
       "         12.02056892,  -29.13981918,   57.10669545,   -7.53235613,\n",
       "         52.25069155,  -40.18581796,   61.23506894,   -5.95255996,\n",
       "         51.7639488 ,  -68.01279126,   49.63285966,  -36.30675693,\n",
       "          5.98217036,   23.22612844,  -47.16992856,  -86.53037361,\n",
       "         59.66390446,   -1.33538093,   23.74048386,   27.08702176,\n",
       "        -91.68094361,  -11.45107797,  -54.92498198,  -92.79429272,\n",
       "        -58.30472306,  -68.61603182,  -36.4091101 ,   -6.90394969,\n",
       "         90.92394649,    5.6854583 ,   16.36009972,   -0.24382817,\n",
       "        -20.90493028,    5.63805728,  -23.1705254 ,  -10.98112763,\n",
       "        -22.86616124,  -43.5476219 ,  -29.26356132,   -0.81924647,\n",
       "         32.87388897,  -76.27561952,   22.15454426,    8.36717259,\n",
       "        -49.47570331,    0.51582435,  -17.57171819,  109.51770307,\n",
       "         63.47529868,   26.03336624,  -27.11073041,   29.71092661,\n",
       "         -5.55262643,   58.61398497,  -30.41877664,   41.04248506,\n",
       "        -21.98796671,   36.44945209,   24.22234723,    7.06482541,\n",
       "        -49.07556767,   -3.3388739 ,   13.20916197,  -95.08055894,\n",
       "         63.14883853,   34.5660775 ,  -21.46696324,  -57.80489799,\n",
       "        -41.29394474,    4.61614586,   20.5275471 ,  -24.51824065,\n",
       "         -3.54022451,   37.25803783,  -27.08715027, -119.56967158,\n",
       "        -43.57614178,   53.59957871,   15.40538271,   35.99139167,\n",
       "        -42.05963391,   73.15264159,  104.35379566,   10.4663026 ,\n",
       "         -7.48064841,   52.41586785,  -80.83835297,   -0.68958255,\n",
       "        -45.69967316,  -15.12722828,   32.76607953,   38.92792412,\n",
       "         62.96636674,  -79.79276833,  -81.88555432,   33.94317001,\n",
       "         41.83381869,  -22.39289617,   48.53301438,   84.61880094,\n",
       "        -49.75392853,  -94.00707656,   52.39114284,    5.80418584,\n",
       "        -52.88496494,  -46.05595028,  -14.30353286,  -37.12467611,\n",
       "        -11.1356205 ,  -53.77612071,  -67.08028681,   29.91323749,\n",
       "        -15.63246918,   18.88829178,   -5.13927097,  -38.69390358,\n",
       "         97.84403544,   38.8071613 ,   49.35966545,   48.82806596,\n",
       "        -58.35469861,  -22.18677647,  -15.64611898,  -13.80629981,\n",
       "         44.07290191,   28.08811862,   18.58604737,    1.32268066,\n",
       "         33.12357344,  -61.06591806,  -50.08828225,  -13.91964196,\n",
       "        -39.80197051,  -27.15844907,   28.57320595,   22.53533779,\n",
       "         11.83994023,   10.70015519,   88.65744088,   34.0253426 ,\n",
       "         -6.66354735,   -2.03778897,   -7.39823125,   11.0250562 ,\n",
       "         43.72032287,  -21.98018199,  -19.62548779,   -2.73444522,\n",
       "        -93.95141338,   18.05560057,   49.08560004,   34.20308252,\n",
       "         36.14885996,  -36.44595888,  -13.20555175,   23.33148539,\n",
       "         24.94559033,   15.7613318 ,   38.1610186 ,  -46.95803771,\n",
       "         19.14674816,  -46.72085891,  -81.72861297,   61.31281952,\n",
       "        -56.76461364,  -28.22207813,   31.30985218,   21.77159372,\n",
       "        -52.52555857,  -11.13126433,    4.3997462 ,  108.61304757,\n",
       "         46.13553157,   40.5589201 ,   34.87016766,   78.02099171,\n",
       "         23.96403708,   71.53433705,  -39.75627621,    1.20422585,\n",
       "          4.8476434 ,   11.29895929,   69.71955403,    7.99315912,\n",
       "        -25.31345381,  -26.1830152 ,  -39.55905768,    0.38177765,\n",
       "         73.75025515,  -78.25507854,  -21.44306094,   15.17465079])"
      ]
     },
     "execution_count": 351,
     "metadata": {},
     "output_type": "execute_result"
    }
   ],
   "source": [
    "U1"
   ]
  },
  {
   "cell_type": "code",
   "execution_count": 352,
   "metadata": {},
   "outputs": [
    {
     "data": {
      "text/plain": [
       "200"
      ]
     },
     "execution_count": 352,
     "metadata": {},
     "output_type": "execute_result"
    }
   ],
   "source": [
    "len(U1)"
   ]
  },
  {
   "cell_type": "code",
   "execution_count": 353,
   "metadata": {},
   "outputs": [],
   "source": [
    "# моделирование выхода объекта\n",
    "y=c0+c1*U1+c2*U2+c3*U3+c4*U4+Noise"
   ]
  },
  {
   "cell_type": "code",
   "execution_count": 354,
   "metadata": {},
   "outputs": [
    {
     "data": {
      "image/png": "[encoded data removed]",
      "text/plain": [
       "<Figure size 432x288 with 1 Axes>"
      ]
     },
     "metadata": {
      "needs_background": "light"
     },
     "output_type": "display_data"
    }
   ],
   "source": [
    "plt.plot(y)\n",
    "plt.show()"
   ]
  },
  {
   "cell_type": "markdown",
   "metadata": {},
   "source": [
    "#### Формирование алгоритма идентификации\n",
    "\n",
    "В зависимости от того, насколько хорошо изучен «объект» идентификации, могут возникнуть следующие ситуации:\n",
    "\n",
    "1. Объект изучен хорошо, правильно определена плотность распределения шума, т.е. принятая и реальная плотности распределения совпадают и на основе принятой функции распределения формируется оптимальная функция потерь.\n",
    "\n",
    "\n",
    "2. Объект изучен плохо. При этом, как правило, считают, что плотность распределения шума соответствует нормальному закону распределения, хотя на самом деле(в данном случаем, см. описание объекта выше) шум имеет распределение Коши. Таким образом, опираясь на ложную гипотезу о нормальном распределении шума, в качестве функции потерь выбирается квадратичная функция."
   ]
  },
  {
   "cell_type": "markdown",
   "metadata": {},
   "source": [
    "Предлагается реализовать абсолютно-оптимальный рекуррентный алгоритм оценивания параметров объекта для каждой из ситуаций. Для   оценки   эффективности использования абсолютно-оптимальных  рекуррентных  алгоритмов  проводилось сравнение сглаженной ошибки оценки параметров объекта,определенных когда объект изучили хорошо и когда плохо, при  различных  значениях  параметра  распределения Коши — s."
   ]
  },
  {
   "cell_type": "markdown",
   "metadata": {},
   "source": [
    "#### В первом случае рекуррентный алгоритм принимает вид:\n",
    "\\begin{equation}\\hat{\\vec{c}}(i)=\\hat{\\vec{c}}(i-1)+Г(i)\\frac{2(y(i)-\\hat{c}_{0}(i-1)u_{0}(i)-...-\\hat{c}_{4}(i-1)u_{4}(i))}{s^2+(y(i)-\\hat{c}_{0}(i-1)u_{0}(i)-...-\\hat{c}_{4}(i-1)u_{4}(i))^2}\\vec{z}(i) \\\\\n",
    "Г(i)=Г(i-1)-\\frac{Г(i-1)\\vec{z}(i)\\vec{z}(i)^TГ(i-1)}{2s^2+\\vec{z}^T(i)Г(i-1)\\vec{z}(i)} \\\\\n",
    "Г(0)=\\lambda I, \\lambda=0.1\\\\\n",
    "\\hat{\\vec{c}}(0)=\\vec{c}_{0}\\end{equation}"
   ]
  },
  {
   "cell_type": "code",
   "execution_count": 355,
   "metadata": {},
   "outputs": [
    {
     "name": "stdout",
     "output_type": "stream",
     "text": [
      "[ 1.89456671 -0.77682427  0.457415   -0.00648862  2.35222374]\n"
     ]
    }
   ],
   "source": [
    "# Ваш код здесь ...\n",
    "I = np.eye(5)\n",
    "lyambda = 0.1\n",
    "G = lyambda*I\n",
    "\n",
    "c = np.array(range(N*5), dtype = np.double)\n",
    "c.shape = (N,5) \n",
    "c[0] = [1.9,-0.9,0.8,0,2.5]\n",
    "\n",
    "i = 1\n",
    "while i<N:\n",
    "    z = np.asmatrix([1, U1[i], U2[i], U3[i], U4[i]]).transpose()\n",
    "    G = G - (G*z*z.getT()*G)/(2*pow(s,2)+z.getT()*G*z)\n",
    "    c[i] = c[i-1] + (G*(2*(y[i]-c[i-1][0]-c[i-1][1]*U1[i]-c[i-1][2]*U2[i]-c[i-1][3]*U3[i]-c[i-1][4]*U4[i]))/(pow(s,2)+pow(y[i]-c[i-1][0]-c[i-1][1]*U1[i]-c[i-1][2]*U2[i]-c[i-1][3]*U3[i]-c[i-1][4]*U4[i], 2))*z).getT()\n",
    "    i = i + 1\n",
    "print(c[N-1])"
   ]
  },
  {
   "cell_type": "code",
   "execution_count": 356,
   "metadata": {},
   "outputs": [
    {
     "data": {
      "text/plain": [
       "15.0"
      ]
     },
     "execution_count": 356,
     "metadata": {},
     "output_type": "execute_result"
    }
   ],
   "source": [
    "10/2*3"
   ]
  },
  {
   "cell_type": "code",
   "execution_count": 357,
   "metadata": {},
   "outputs": [
    {
     "data": {
      "text/plain": [
       "1.6666666666666667"
      ]
     },
     "execution_count": 357,
     "metadata": {},
     "output_type": "execute_result"
    }
   ],
   "source": [
    "10/(2*3)"
   ]
  },
  {
   "cell_type": "code",
   "execution_count": 358,
   "metadata": {},
   "outputs": [
    {
     "data": {
      "text/plain": [
       "array([[1., 0., 0., 0., 0.],\n",
       "       [0., 1., 0., 0., 0.],\n",
       "       [0., 0., 1., 0., 0.],\n",
       "       [0., 0., 0., 1., 0.],\n",
       "       [0., 0., 0., 0., 1.]])"
      ]
     },
     "execution_count": 358,
     "metadata": {},
     "output_type": "execute_result"
    }
   ],
   "source": [
    "np.eye(5)"
   ]
  },
  {
   "cell_type": "code",
   "execution_count": 359,
   "metadata": {},
   "outputs": [],
   "source": [
    "# c = np.array(range(N*5), dtype = np.double)\n",
    "# c.shape = (N,5) \n",
    "# c"
   ]
  },
  {
   "cell_type": "code",
   "execution_count": 360,
   "metadata": {},
   "outputs": [],
   "source": [
    "#c[2] = [3, 4, 5, 6, 7]"
   ]
  },
  {
   "cell_type": "code",
   "execution_count": 361,
   "metadata": {},
   "outputs": [
    {
     "data": {
      "text/plain": [
       "array([[ 1.90000000e+00, -9.00000000e-01,  8.00000000e-01,\n",
       "         0.00000000e+00,  2.50000000e+00],\n",
       "       [ 1.90203960e+00, -7.61822494e-01,  7.13448589e-01,\n",
       "        -1.33398080e-02,  2.44931695e+00],\n",
       "       [ 1.90217364e+00, -7.66523685e-01,  6.96996593e-01,\n",
       "        -3.50222545e-02,  2.45634414e+00],\n",
       "       [ 1.90223560e+00, -7.67092549e-01,  6.90436324e-01,\n",
       "        -2.92182446e-02,  2.46731357e+00],\n",
       "       [ 1.90232774e+00, -7.74570535e-01,  6.82377979e-01,\n",
       "        -2.43478160e-02,  2.45952907e+00],\n",
       "       [ 1.90218042e+00, -7.59438955e-01,  6.72624316e-01,\n",
       "        -1.60678135e-02,  2.45380770e+00],\n",
       "       [ 1.90203918e+00, -7.59477641e-01,  6.66675810e-01,\n",
       "        -1.33250305e-02,  2.44932736e+00],\n",
       "       [ 1.90069509e+00, -8.08744007e-01,  6.65226304e-01,\n",
       "        -9.37075859e-03,  2.44989915e+00],\n",
       "       [ 1.90179675e+00, -8.06443588e-01,  6.59754524e-01,\n",
       "        -9.72441680e-03,  2.43239686e+00],\n",
       "       [ 1.90229877e+00, -8.15304668e-01,  6.58098273e-01,\n",
       "        -3.01275007e-02,  2.43542914e+00],\n",
       "       [ 1.90559233e+00, -7.99529538e-01,  6.53969322e-01,\n",
       "        -4.83955577e-02,  2.38990215e+00],\n",
       "       [ 1.90541011e+00, -8.00702313e-01,  6.50267225e-01,\n",
       "        -4.98846663e-02,  2.38760091e+00],\n",
       "       [ 1.90652823e+00, -7.88126972e-01,  6.44734066e-01,\n",
       "        -2.21421674e-02,  2.39703355e+00],\n",
       "       [ 1.90748176e+00, -7.90605045e-01,  6.44107496e-01,\n",
       "        -2.47637486e-02,  2.39552784e+00],\n",
       "       [ 1.91200594e+00, -7.67656915e-01,  6.38462255e-01,\n",
       "         1.48787129e-02,  2.40502842e+00],\n",
       "       [ 1.90153734e+00, -7.68234396e-01,  6.35155997e-01,\n",
       "        -2.89441763e-03,  2.38024946e+00],\n",
       "       [ 1.89752678e+00, -7.77535749e-01,  6.30921001e-01,\n",
       "         1.17730953e-02,  2.37805864e+00],\n",
       "       [ 1.88211464e+00, -7.56811269e-01,  6.21824702e-01,\n",
       "        -6.73281908e-04,  2.36859445e+00],\n",
       "       [ 1.87765915e+00, -7.66870818e-01,  6.17654532e-01,\n",
       "         5.71629271e-03,  2.35354851e+00],\n",
       "       [ 1.87815134e+00, -7.67363847e-01,  6.17817595e-01,\n",
       "         5.67252871e-03,  2.35299843e+00],\n",
       "       [ 1.87452533e+00, -7.68346384e-01,  6.14200383e-01,\n",
       "         3.31021613e-03,  2.35007097e+00],\n",
       "       [ 1.88022594e+00, -7.63335504e-01,  6.11309909e-01,\n",
       "        -3.32090530e-04,  2.34305794e+00],\n",
       "       [ 1.87336481e+00, -7.56844005e-01,  6.04443037e-01,\n",
       "         1.01196896e-03,  2.34737835e+00],\n",
       "       [ 1.86120982e+00, -7.32336123e-01,  6.03596248e-01,\n",
       "        -1.45628471e-03,  2.36077075e+00],\n",
       "       [ 1.86152273e+00, -7.30842189e-01,  6.01773390e-01,\n",
       "        -1.26441243e-03,  2.36270653e+00],\n",
       "       [ 1.85473854e+00, -7.33643231e-01,  5.98855030e-01,\n",
       "        -2.41937098e-02,  2.34785611e+00],\n",
       "       [ 1.85165723e+00, -7.36330506e-01,  5.96025058e-01,\n",
       "        -2.82128936e-02,  2.34664937e+00],\n",
       "       [ 1.84729600e+00, -7.43547845e-01,  6.01861095e-01,\n",
       "        -4.35306244e-02,  2.33993308e+00],\n",
       "       [ 1.85196024e+00, -7.54881954e-01,  5.95751044e-01,\n",
       "        -4.67532379e-02,  2.33488914e+00],\n",
       "       [ 1.86545432e+00, -7.56539747e-01,  6.09031812e-01,\n",
       "        -4.40694996e-02,  2.33180154e+00],\n",
       "       [ 1.85801252e+00, -7.48457688e-01,  6.09126561e-01,\n",
       "        -3.65232929e-02,  2.33901007e+00],\n",
       "       [ 1.84759728e+00, -7.30733073e-01,  6.03743145e-01,\n",
       "        -3.91097555e-02,  2.33420697e+00],\n",
       "       [ 1.84966750e+00, -7.33313908e-01,  6.04309614e-01,\n",
       "        -3.72073672e-02,  2.33630047e+00],\n",
       "       [ 1.85665685e+00, -7.45322377e-01,  6.02247778e-01,\n",
       "        -3.28062338e-02,  2.34337052e+00],\n",
       "       [ 1.85758277e+00, -7.46574331e-01,  6.00977212e-01,\n",
       "        -3.25904561e-02,  2.34554909e+00],\n",
       "       [ 1.85521966e+00, -7.46449591e-01,  5.98369854e-01,\n",
       "        -3.11906690e-02,  2.34691552e+00],\n",
       "       [ 1.85220417e+00, -7.51977068e-01,  5.96152495e-01,\n",
       "        -3.66845746e-02,  2.34473662e+00],\n",
       "       [ 1.84878170e+00, -7.52170753e-01,  5.92794903e-01,\n",
       "        -3.30650895e-02,  2.34566169e+00],\n",
       "       [ 1.83836103e+00, -7.54225023e-01,  5.88272145e-01,\n",
       "        -1.59298118e-02,  2.35319611e+00],\n",
       "       [ 1.83351112e+00, -7.54542005e-01,  5.85953168e-01,\n",
       "        -1.94022602e-02,  2.35374773e+00],\n",
       "       [ 1.84319402e+00, -7.59456435e-01,  5.87382393e-01,\n",
       "        -2.79644755e-02,  2.36345882e+00],\n",
       "       [ 1.84145192e+00, -7.59856497e-01,  5.85145074e-01,\n",
       "        -2.78158405e-02,  2.36661099e+00],\n",
       "       [ 1.84480083e+00, -7.60814700e-01,  5.81048856e-01,\n",
       "        -2.11708543e-02,  2.36015940e+00],\n",
       "       [ 1.84643544e+00, -7.61086630e-01,  5.77361650e-01,\n",
       "        -2.19313665e-02,  2.35714842e+00],\n",
       "       [ 1.84943404e+00, -7.62193403e-01,  5.76721165e-01,\n",
       "        -2.16504037e-02,  2.35431018e+00],\n",
       "       [ 1.84754743e+00, -7.60783211e-01,  5.76252890e-01,\n",
       "        -2.00417022e-02,  2.35644661e+00],\n",
       "       [ 1.84504296e+00, -7.59051857e-01,  5.80346865e-01,\n",
       "        -2.06330358e-02,  2.35646799e+00],\n",
       "       [ 1.84766463e+00, -7.59012222e-01,  5.80302957e-01,\n",
       "        -2.13704881e-02,  2.35544408e+00],\n",
       "       [ 1.85199347e+00, -7.53772247e-01,  5.75813617e-01,\n",
       "        -2.05551128e-02,  2.34338044e+00],\n",
       "       [ 1.85955578e+00, -7.64649844e-01,  5.74713178e-01,\n",
       "        -1.47897090e-02,  2.34746074e+00],\n",
       "       [ 1.85556096e+00, -7.65320485e-01,  5.72116273e-01,\n",
       "        -1.29396046e-02,  2.34482688e+00],\n",
       "       [ 1.84882505e+00, -7.66788179e-01,  5.71164772e-01,\n",
       "        -2.16481576e-02,  2.34241573e+00],\n",
       "       [ 1.84643251e+00, -7.64469554e-01,  5.72126799e-01,\n",
       "        -1.67549360e-02,  2.34442849e+00],\n",
       "       [ 1.84848227e+00, -7.64439543e-01,  5.70427464e-01,\n",
       "        -1.56281348e-02,  2.34530901e+00],\n",
       "       [ 1.84756157e+00, -7.64177159e-01,  5.69442129e-01,\n",
       "        -1.60668687e-02,  2.34466782e+00],\n",
       "       [ 1.84578381e+00, -7.66048729e-01,  5.67721910e-01,\n",
       "        -1.49702090e-02,  2.34430074e+00],\n",
       "       [ 1.84689224e+00, -7.64920686e-01,  5.65622897e-01,\n",
       "        -1.52589080e-02,  2.34577587e+00],\n",
       "       [ 1.84794139e+00, -7.64474143e-01,  5.65568863e-01,\n",
       "        -1.53911403e-02,  2.34537673e+00],\n",
       "       [ 1.84876003e+00, -7.64634633e-01,  5.65998517e-01,\n",
       "        -1.50895905e-02,  2.34432435e+00],\n",
       "       [ 1.84641701e+00, -7.65430400e-01,  5.64013491e-01,\n",
       "        -1.49456808e-02,  2.34451045e+00],\n",
       "       [ 1.85587649e+00, -7.67720578e-01,  5.64566690e-01,\n",
       "        -2.28759493e-02,  2.34993001e+00],\n",
       "       [ 1.84913978e+00, -7.72014112e-01,  5.64084644e-01,\n",
       "        -2.06167933e-02,  2.34563333e+00],\n",
       "       [ 1.85744005e+00, -7.73626888e-01,  5.62202392e-01,\n",
       "        -7.07222967e-03,  2.34158614e+00],\n",
       "       [ 1.86204022e+00, -7.70634920e-01,  5.58868325e-01,\n",
       "        -1.54283238e-03,  2.34587623e+00],\n",
       "       [ 1.85966743e+00, -7.69889643e-01,  5.57338633e-01,\n",
       "        -3.64020836e-03,  2.34457313e+00],\n",
       "       [ 1.85618379e+00, -7.72303421e-01,  5.56254415e-01,\n",
       "        -7.20801954e-03,  2.34533304e+00],\n",
       "       [ 1.85780686e+00, -7.71641899e-01,  5.54336876e-01,\n",
       "        -7.36786154e-03,  2.34530579e+00],\n",
       "       [ 1.84882352e+00, -7.70090572e-01,  5.47603882e-01,\n",
       "         1.33812593e-04,  2.33821131e+00],\n",
       "       [ 1.84251524e+00, -7.65358820e-01,  5.44747907e-01,\n",
       "         5.23467587e-03,  2.33472078e+00],\n",
       "       [ 1.84908023e+00, -7.65843325e-01,  5.43629870e-01,\n",
       "         3.57109547e-03,  2.33510972e+00],\n",
       "       [ 1.85196039e+00, -7.64648225e-01,  5.42413999e-01,\n",
       "         1.51881408e-03,  2.32982060e+00],\n",
       "       [ 1.85541327e+00, -7.69204016e-01,  5.41436769e-01,\n",
       "         2.60255846e-04,  2.33055797e+00],\n",
       "       [ 1.86326180e+00, -7.62559926e-01,  5.38552685e-01,\n",
       "         1.40428831e-02,  2.33742590e+00],\n",
       "       [ 1.87195753e+00, -7.58904824e-01,  5.35616585e-01,\n",
       "         1.75812756e-02,  2.34054184e+00],\n",
       "       [ 1.87260648e+00, -7.59233678e-01,  5.35520325e-01,\n",
       "         1.75423887e-02,  2.34144499e+00],\n",
       "       [ 1.87402450e+00, -7.60557055e-01,  5.34808322e-01,\n",
       "         1.62487230e-02,  2.34307356e+00],\n",
       "       [ 1.87674662e+00, -7.61968144e-01,  5.33629890e-01,\n",
       "         1.69962874e-02,  2.34282415e+00],\n",
       "       [ 1.88308850e+00, -7.61558687e-01,  5.32306271e-01,\n",
       "         1.82771737e-02,  2.34289164e+00],\n",
       "       [ 1.88402209e+00, -7.61357951e-01,  5.30632610e-01,\n",
       "         1.88080221e-02,  2.34455191e+00],\n",
       "       [ 1.88512938e+00, -7.62134639e-01,  5.29469381e-01,\n",
       "         1.99207017e-02,  2.34655571e+00],\n",
       "       [ 1.88025390e+00, -7.62101663e-01,  5.29128724e-01,\n",
       "         2.14288712e-02,  2.34783467e+00],\n",
       "       [ 1.88452241e+00, -7.59905500e-01,  5.27765277e-01,\n",
       "         2.11248388e-02,  2.34489124e+00],\n",
       "       [ 1.89369703e+00, -7.61738302e-01,  5.25501467e-01,\n",
       "         2.41104323e-02,  2.33663313e+00],\n",
       "       [ 1.88594043e+00, -7.50609795e-01,  5.23209709e-01,\n",
       "         2.15949255e-02,  2.33547361e+00],\n",
       "       [ 1.89003170e+00, -7.53265955e-01,  5.22610706e-01,\n",
       "         2.02506457e-02,  2.33908999e+00],\n",
       "       [ 1.89298026e+00, -7.51222126e-01,  5.20945661e-01,\n",
       "         2.28052908e-02,  2.34059884e+00],\n",
       "       [ 1.89917807e+00, -7.50102086e-01,  5.17632100e-01,\n",
       "         2.03810169e-02,  2.34052976e+00],\n",
       "       [ 1.90365873e+00, -7.48319417e-01,  5.18700174e-01,\n",
       "         2.29190659e-02,  2.33813149e+00],\n",
       "       [ 1.89885242e+00, -7.46412854e-01,  5.16625074e-01,\n",
       "         2.58822978e-02,  2.33682348e+00],\n",
       "       [ 1.89087051e+00, -7.51788113e-01,  5.15666811e-01,\n",
       "         2.86525902e-02,  2.33285049e+00],\n",
       "       [ 1.88995072e+00, -7.52658911e-01,  5.15453654e-01,\n",
       "         2.83842243e-02,  2.33316810e+00],\n",
       "       [ 1.88588259e+00, -7.53019815e-01,  5.13969542e-01,\n",
       "         3.10362249e-02,  2.33311137e+00],\n",
       "       [ 1.88856408e+00, -7.53184493e-01,  5.12861513e-01,\n",
       "         3.13123074e-02,  2.33276144e+00],\n",
       "       [ 1.89451608e+00, -7.50435071e-01,  5.13599799e-01,\n",
       "         2.77619156e-02,  2.33538341e+00],\n",
       "       [ 1.89518314e+00, -7.51180488e-01,  5.12512563e-01,\n",
       "         2.85260798e-02,  2.33541720e+00],\n",
       "       [ 1.88906590e+00, -7.51011015e-01,  5.11328904e-01,\n",
       "         3.18510239e-02,  2.33549148e+00],\n",
       "       [ 1.89042861e+00, -7.51866657e-01,  5.10472968e-01,\n",
       "         3.34781954e-02,  2.33665195e+00],\n",
       "       [ 1.88633001e+00, -7.51056446e-01,  5.08687726e-01,\n",
       "         3.33621715e-02,  2.33489808e+00],\n",
       "       [ 1.89039505e+00, -7.49704503e-01,  5.06972222e-01,\n",
       "         3.13637996e-02,  2.33375161e+00],\n",
       "       [ 1.88776159e+00, -7.50444016e-01,  5.05709824e-01,\n",
       "         3.12135663e-02,  2.33542842e+00],\n",
       "       [ 1.88171266e+00, -7.53713387e-01,  5.05379625e-01,\n",
       "         3.15341886e-02,  2.33806583e+00],\n",
       "       [ 1.88521416e+00, -7.56135333e-01,  5.06474307e-01,\n",
       "         2.91109345e-02,  2.33903804e+00],\n",
       "       [ 1.88054082e+00, -7.52989967e-01,  5.04701494e-01,\n",
       "         2.49492087e-02,  2.33901542e+00],\n",
       "       [ 1.87194271e+00, -7.55261890e-01,  5.06528243e-01,\n",
       "         2.97328457e-02,  2.33812560e+00],\n",
       "       [ 1.87361536e+00, -7.54595355e-01,  5.05266113e-01,\n",
       "         2.86701416e-02,  2.33845150e+00],\n",
       "       [ 1.88102553e+00, -7.56141551e-01,  5.05828198e-01,\n",
       "         2.86659715e-02,  2.34070798e+00],\n",
       "       [ 1.88710804e+00, -7.53890060e-01,  5.05585785e-01,\n",
       "         2.42435613e-02,  2.34486013e+00],\n",
       "       [ 1.88080919e+00, -7.57826780e-01,  5.05334214e-01,\n",
       "         2.57222069e-02,  2.34771854e+00],\n",
       "       [ 1.88511777e+00, -7.59554073e-01,  5.04184754e-01,\n",
       "         2.64566971e-02,  2.34768624e+00],\n",
       "       [ 1.88654166e+00, -7.61111820e-01,  5.03843595e-01,\n",
       "         2.64352798e-02,  2.35006923e+00],\n",
       "       [ 1.88791821e+00, -7.60473984e-01,  5.02801121e-01,\n",
       "         2.51234292e-02,  2.35031729e+00],\n",
       "       [ 1.88409593e+00, -7.60759484e-01,  5.01294826e-01,\n",
       "         2.41253198e-02,  2.34804000e+00],\n",
       "       [ 1.88039118e+00, -7.59273904e-01,  5.00426478e-01,\n",
       "         2.46812963e-02,  2.34803946e+00],\n",
       "       [ 1.87652758e+00, -7.58138596e-01,  4.99157268e-01,\n",
       "         2.32807748e-02,  2.34725156e+00],\n",
       "       [ 1.88051354e+00, -7.58535581e-01,  4.98223947e-01,\n",
       "         2.33566849e-02,  2.34493189e+00],\n",
       "       [ 1.88335828e+00, -7.59375839e-01,  4.97361889e-01,\n",
       "         2.28717122e-02,  2.34353205e+00],\n",
       "       [ 1.88756498e+00, -7.59553043e-01,  4.96220916e-01,\n",
       "         2.42902614e-02,  2.34308593e+00],\n",
       "       [ 1.88530133e+00, -7.58672392e-01,  4.94893782e-01,\n",
       "         2.47033086e-02,  2.34262397e+00],\n",
       "       [ 1.88969939e+00, -7.61237290e-01,  4.94090235e-01,\n",
       "         2.37054457e-02,  2.34257143e+00],\n",
       "       [ 1.88885698e+00, -7.61383376e-01,  4.93794647e-01,\n",
       "         2.38526536e-02,  2.34249555e+00],\n",
       "       [ 1.89750874e+00, -7.62859306e-01,  4.93127287e-01,\n",
       "         1.97025354e-02,  2.34140519e+00],\n",
       "       [ 1.89599895e+00, -7.63003400e-01,  4.92383970e-01,\n",
       "         1.96075473e-02,  2.34203891e+00],\n",
       "       [ 1.89752174e+00, -7.62955190e-01,  4.91662564e-01,\n",
       "         2.04850590e-02,  2.34142100e+00],\n",
       "       [ 1.89844808e+00, -7.63257340e-01,  4.90808287e-01,\n",
       "         2.05596972e-02,  2.34116768e+00],\n",
       "       [ 1.90029287e+00, -7.61713783e-01,  4.89444389e-01,\n",
       "         2.04260576e-02,  2.34135136e+00],\n",
       "       [ 1.89644858e+00, -7.62660586e-01,  4.88453134e-01,\n",
       "         1.96223540e-02,  2.34239842e+00],\n",
       "       [ 1.90029229e+00, -7.61192332e-01,  4.87507845e-01,\n",
       "         2.04141053e-02,  2.34186598e+00],\n",
       "       [ 1.89567225e+00, -7.62638987e-01,  4.87371659e-01,\n",
       "         2.08902275e-02,  2.34235102e+00],\n",
       "       [ 1.89726526e+00, -7.63348491e-01,  4.87082956e-01,\n",
       "         2.05990279e-02,  2.34199960e+00],\n",
       "       [ 1.88969572e+00, -7.62350405e-01,  4.85518490e-01,\n",
       "         1.97203338e-02,  2.34133127e+00],\n",
       "       [ 1.88335601e+00, -7.61931769e-01,  4.85803145e-01,\n",
       "         1.72596927e-02,  2.34234049e+00],\n",
       "       [ 1.88279290e+00, -7.61902540e-01,  4.85562271e-01,\n",
       "         1.70843969e-02,  2.34230734e+00],\n",
       "       [ 1.88457908e+00, -7.61225312e-01,  4.84504472e-01,\n",
       "         1.72865459e-02,  2.34267113e+00],\n",
       "       [ 1.88903434e+00, -7.60145834e-01,  4.83831287e-01,\n",
       "         1.83891434e-02,  2.34490187e+00],\n",
       "       [ 1.88968510e+00, -7.59964303e-01,  4.82789795e-01,\n",
       "         1.88512334e-02,  2.34494296e+00],\n",
       "       [ 1.89537062e+00, -7.60095427e-01,  4.82828492e-01,\n",
       "         1.70653700e-02,  2.34757720e+00],\n",
       "       [ 1.90372709e+00, -7.58923311e-01,  4.81658378e-01,\n",
       "         1.16347955e-02,  2.34352299e+00],\n",
       "       [ 1.90530200e+00, -7.59865239e-01,  4.80796492e-01,\n",
       "         1.05011053e-02,  2.34333557e+00],\n",
       "       [ 1.90351560e+00, -7.59406966e-01,  4.79916220e-01,\n",
       "         1.03999857e-02,  2.34328975e+00],\n",
       "       [ 1.89453312e+00, -7.59019358e-01,  4.80164542e-01,\n",
       "         6.16943114e-03,  2.34523615e+00],\n",
       "       [ 1.89536786e+00, -7.59183756e-01,  4.80313714e-01,\n",
       "         6.54000880e-03,  2.34516310e+00],\n",
       "       [ 1.89728882e+00, -7.59498737e-01,  4.80513326e-01,\n",
       "         6.65394890e-03,  2.34500598e+00],\n",
       "       [ 1.89419619e+00, -7.60057484e-01,  4.79519499e-01,\n",
       "         6.35278444e-03,  2.34463755e+00],\n",
       "       [ 1.89164596e+00, -7.60703789e-01,  4.78904971e-01,\n",
       "         3.98704811e-03,  2.34356606e+00],\n",
       "       [ 1.89706954e+00, -7.60460853e-01,  4.78170775e-01,\n",
       "         2.24786044e-03,  2.34354522e+00],\n",
       "       [ 1.89533372e+00, -7.60547560e-01,  4.77115381e-01,\n",
       "         2.41318059e-03,  2.34359142e+00],\n",
       "       [ 1.89823749e+00, -7.58616796e-01,  4.75819754e-01,\n",
       "         4.43550839e-03,  2.34112301e+00],\n",
       "       [ 1.89968690e+00, -7.58165604e-01,  4.75020100e-01,\n",
       "         4.88231566e-03,  2.34203260e+00],\n",
       "       [ 1.90598430e+00, -7.58302695e-01,  4.74814288e-01,\n",
       "         6.86233087e-03,  2.34246149e+00],\n",
       "       [ 1.90426803e+00, -7.58259808e-01,  4.74348527e-01,\n",
       "         7.28671444e-03,  2.34269934e+00],\n",
       "       [ 1.91292841e+00, -7.58852573e-01,  4.74058065e-01,\n",
       "         4.55572963e-03,  2.34318513e+00],\n",
       "       [ 1.91459250e+00, -7.58690522e-01,  4.73255075e-01,\n",
       "         4.80239314e-03,  2.34397072e+00],\n",
       "       [ 1.91299482e+00, -7.59051065e-01,  4.72781931e-01,\n",
       "         5.01502311e-03,  2.34433009e+00],\n",
       "       [ 1.90804953e+00, -7.58384855e-01,  4.72869791e-01,\n",
       "         4.46350081e-03,  2.34429537e+00],\n",
       "       [ 1.89904674e+00, -7.57049493e-01,  4.73148698e-01,\n",
       "         7.25662767e-03,  2.34674968e+00],\n",
       "       [ 1.90312480e+00, -7.57022571e-01,  4.72041583e-01,\n",
       "         8.99853728e-03,  2.34696183e+00],\n",
       "       [ 1.89481989e+00, -7.51908302e-01,  4.72452123e-01,\n",
       "         6.35240721e-03,  2.34782414e+00],\n",
       "       [ 1.89272593e+00, -7.52177096e-01,  4.71836934e-01,\n",
       "         5.61857774e-03,  2.34867997e+00],\n",
       "       [ 1.89071177e+00, -7.52647761e-01,  4.70982440e-01,\n",
       "         6.06906194e-03,  2.34854414e+00],\n",
       "       [ 1.88400161e+00, -7.54713963e-01,  4.71894128e-01,\n",
       "         6.87277571e-04,  2.35021167e+00],\n",
       "       [ 1.88795568e+00, -7.53590688e-01,  4.70293450e-01,\n",
       "         1.99385736e-03,  2.34976043e+00],\n",
       "       [ 1.89723674e+00, -7.55475738e-01,  4.71944709e-01,\n",
       "         2.61634463e-03,  2.35138256e+00],\n",
       "       [ 1.89143443e+00, -7.55092082e-01,  4.71390948e-01,\n",
       "         1.51864604e-03,  2.35126277e+00],\n",
       "       [ 1.90133486e+00, -7.54014778e-01,  4.71069047e-01,\n",
       "        -1.63788772e-03,  2.35181667e+00],\n",
       "       [ 1.89989218e+00, -7.54190602e-01,  4.70295325e-01,\n",
       "        -1.45404640e-03,  2.35174363e+00],\n",
       "       [ 1.90878664e+00, -7.53570241e-01,  4.70583144e-01,\n",
       "        -3.80784540e-03,  2.35214640e+00],\n",
       "       [ 1.90602540e+00, -7.54292920e-01,  4.70028081e-01,\n",
       "        -5.06851780e-03,  2.35325922e+00],\n",
       "       [ 1.91487763e+00, -7.56812077e-01,  4.70054772e-01,\n",
       "        -6.89908568e-03,  2.35268174e+00],\n",
       "       [ 1.91088128e+00, -7.57213514e-01,  4.69337902e-01,\n",
       "        -6.49910108e-03,  2.35277527e+00],\n",
       "       [ 1.91238113e+00, -7.57641126e-01,  4.69480010e-01,\n",
       "        -6.39533315e-03,  2.35216555e+00],\n",
       "       [ 1.91361547e+00, -7.58207117e-01,  4.69814932e-01,\n",
       "        -6.52226136e-03,  2.35206335e+00],\n",
       "       [ 1.90491459e+00, -7.61659762e-01,  4.69679932e-01,\n",
       "        -8.69647419e-03,  2.34945270e+00],\n",
       "       [ 1.90588669e+00, -7.62042592e-01,  4.69005273e-01,\n",
       "        -8.34346073e-03,  2.34993088e+00],\n",
       "       [ 1.90630960e+00, -7.62109347e-01,  4.69048257e-01,\n",
       "        -8.41041647e-03,  2.35006494e+00],\n",
       "       [ 1.90710974e+00, -7.61965698e-01,  4.68764674e-01,\n",
       "        -8.52057333e-03,  2.35008769e+00],\n",
       "       [ 1.90718158e+00, -7.61953094e-01,  4.68760030e-01,\n",
       "        -8.48542269e-03,  2.35009067e+00],\n",
       "       [ 1.91432177e+00, -7.64148049e-01,  4.69020314e-01,\n",
       "        -6.77902771e-03,  2.35041472e+00],\n",
       "       [ 1.90906524e+00, -7.63796424e-01,  4.68346119e-01,\n",
       "        -6.67923570e-03,  2.35159780e+00],\n",
       "       [ 1.90785764e+00, -7.63811846e-01,  4.67972944e-01,\n",
       "        -6.36491750e-03,  2.35136513e+00],\n",
       "       [ 1.90532107e+00, -7.65240884e-01,  4.67377353e-01,\n",
       "        -6.36424604e-03,  2.35148315e+00],\n",
       "       [ 1.89980673e+00, -7.66734161e-01,  4.66917253e-01,\n",
       "        -6.27623512e-03,  2.34915486e+00],\n",
       "       [ 1.90656082e+00, -7.65299049e-01,  4.65898617e-01,\n",
       "        -7.27911323e-03,  2.34915348e+00],\n",
       "       [ 1.89748939e+00, -7.67044583e-01,  4.66209043e-01,\n",
       "        -7.66729374e-03,  2.35047175e+00],\n",
       "       [ 1.88772727e+00, -7.70163025e-01,  4.65634140e-01,\n",
       "        -2.45994774e-03,  2.35208268e+00],\n",
       "       [ 1.89226492e+00, -7.69693491e-01,  4.64013284e-01,\n",
       "        -3.55639425e-03,  2.35118214e+00],\n",
       "       [ 1.89000741e+00, -7.70606134e-01,  4.63656936e-01,\n",
       "        -4.02794584e-03,  2.35170782e+00],\n",
       "       [ 1.89218095e+00, -7.71108066e-01,  4.63020646e-01,\n",
       "        -4.82869076e-03,  2.35217147e+00],\n",
       "       [ 1.89425513e+00, -7.71022384e-01,  4.62454369e-01,\n",
       "        -4.18572235e-03,  2.35245122e+00],\n",
       "       [ 1.89546251e+00, -7.70928541e-01,  4.61814796e-01,\n",
       "        -3.72449764e-03,  2.35269430e+00],\n",
       "       [ 1.88665343e+00, -7.71464953e-01,  4.60901757e-01,\n",
       "        -4.54127518e-03,  2.35346784e+00],\n",
       "       [ 1.88064396e+00, -7.73929715e-01,  4.60374457e-01,\n",
       "        -5.16637467e-03,  2.35218742e+00],\n",
       "       [ 1.88049555e+00, -7.73934361e-01,  4.60366291e-01,\n",
       "        -5.13943427e-03,  2.35216495e+00],\n",
       "       [ 1.88226040e+00, -7.74209121e-01,  4.59768055e-01,\n",
       "        -5.46725725e-03,  2.35162045e+00],\n",
       "       [ 1.88895444e+00, -7.75160391e-01,  4.60233939e-01,\n",
       "        -7.03744644e-03,  2.35267513e+00],\n",
       "       [ 1.88628191e+00, -7.74662637e-01,  4.59565164e-01,\n",
       "        -7.21928560e-03,  2.35213932e+00],\n",
       "       [ 1.88896347e+00, -7.74694837e-01,  4.58776206e-01,\n",
       "        -7.57420841e-03,  2.35166606e+00],\n",
       "       [ 1.88637473e+00, -7.75695719e-01,  4.58245901e-01,\n",
       "        -7.81674573e-03,  2.35164217e+00],\n",
       "       [ 1.88975346e+00, -7.77038812e-01,  4.57785956e-01,\n",
       "        -7.34350500e-03,  2.35214501e+00],\n",
       "       [ 1.89097134e+00, -7.77146190e-01,  4.57540669e-01,\n",
       "        -6.84799792e-03,  2.35216696e+00],\n",
       "       [ 1.89456671e+00, -7.76824273e-01,  4.57414999e-01,\n",
       "        -6.48862104e-03,  2.35222374e+00]])"
      ]
     },
     "execution_count": 361,
     "metadata": {},
     "output_type": "execute_result"
    }
   ],
   "source": [
    "c"
   ]
  },
  {
   "cell_type": "code",
   "execution_count": 362,
   "metadata": {},
   "outputs": [
    {
     "ename": "IndexError",
     "evalue": "index 200 is out of bounds for axis 0 with size 200",
     "output_type": "error",
     "traceback": [
      "\u001b[0;31m---------------------------------------------------------------------------\u001b[0m",
      "\u001b[0;31mIndexError\u001b[0m                                Traceback (most recent call last)",
      "\u001b[0;32m<ipython-input-362-26cf0e9d5406>\u001b[0m in \u001b[0;36m<module>\u001b[0;34m\u001b[0m\n\u001b[0;32m----> 1\u001b[0;31m \u001b[0mnp\u001b[0m\u001b[0;34m.\u001b[0m\u001b[0masmatrix\u001b[0m\u001b[0;34m(\u001b[0m\u001b[0;34m[\u001b[0m\u001b[0;36m1\u001b[0m\u001b[0;34m,\u001b[0m \u001b[0mU1\u001b[0m\u001b[0;34m[\u001b[0m\u001b[0mi\u001b[0m\u001b[0;34m]\u001b[0m\u001b[0;34m,\u001b[0m \u001b[0mU2\u001b[0m\u001b[0;34m[\u001b[0m\u001b[0mi\u001b[0m\u001b[0;34m]\u001b[0m\u001b[0;34m,\u001b[0m \u001b[0mU3\u001b[0m\u001b[0;34m[\u001b[0m\u001b[0mi\u001b[0m\u001b[0;34m]\u001b[0m\u001b[0;34m,\u001b[0m \u001b[0mU4\u001b[0m\u001b[0;34m[\u001b[0m\u001b[0mi\u001b[0m\u001b[0;34m]\u001b[0m\u001b[0;34m]\u001b[0m\u001b[0;34m)\u001b[0m\u001b[0;34m\u001b[0m\u001b[0;34m\u001b[0m\u001b[0m\n\u001b[0m",
      "\u001b[0;31mIndexError\u001b[0m: index 200 is out of bounds for axis 0 with size 200"
     ]
    }
   ],
   "source": [
    "np.asmatrix([1, U1[i], U2[i], U3[i], U4[i]])"
   ]
  },
  {
   "cell_type": "code",
   "execution_count": 363,
   "metadata": {},
   "outputs": [
    {
     "data": {
      "text/plain": [
       "matrix([[  1.        ],\n",
       "        [-55.48572283],\n",
       "        [-48.92806346],\n",
       "        [-30.13635662],\n",
       "        [ 29.94835237]])"
      ]
     },
     "execution_count": 363,
     "metadata": {},
     "output_type": "execute_result"
    }
   ],
   "source": [
    "np.asmatrix([1, U1[0], U2[0], U3[0], U4[0]]).transpose() #Столбец"
   ]
  },
  {
   "cell_type": "code",
   "execution_count": 364,
   "metadata": {},
   "outputs": [
    {
     "data": {
      "text/plain": [
       "matrix([[  1.        , -55.48572283, -48.92806346, -30.13635662,\n",
       "          29.94835237]])"
      ]
     },
     "execution_count": 364,
     "metadata": {},
     "output_type": "execute_result"
    }
   ],
   "source": [
    "np.asmatrix([1, U1[0], U2[0], U3[0], U4[0]]).transpose().getT()"
   ]
  },
  {
   "cell_type": "code",
   "execution_count": 365,
   "metadata": {},
   "outputs": [],
   "source": [
    "# z = np.asmatrix([1, U1[0], U2[0], U3[0], U4[0]]).transpose()\n",
    "# print(z)\n",
    "# zT = z.getT()\n",
    "# M = z * zT\n",
    "# M"
   ]
  },
  {
   "cell_type": "code",
   "execution_count": 366,
   "metadata": {},
   "outputs": [
    {
     "data": {
      "text/plain": [
       "200"
      ]
     },
     "execution_count": 366,
     "metadata": {},
     "output_type": "execute_result"
    }
   ],
   "source": [
    "i"
   ]
  },
  {
   "cell_type": "code",
   "execution_count": 367,
   "metadata": {},
   "outputs": [
    {
     "data": {
      "text/plain": [
       "matrix([[ 1.00000000e+00, -1.12012030e+01,  8.87789653e+01,\n",
       "         -5.37951775e+00, -6.28774082e+00],\n",
       "        [-1.12012030e+01,  1.25466949e+02, -9.94431214e+02,\n",
       "          6.02570704e+01,  7.04302614e+01],\n",
       "        [ 8.87789653e+01, -9.94431214e+02,  7.88170468e+03,\n",
       "         -4.77588020e+02, -5.58219124e+02],\n",
       "        [-5.37951775e+00,  6.02570704e+01, -4.77588020e+02,\n",
       "          2.89392112e+01,  3.38250133e+01],\n",
       "        [-6.28774082e+00,  7.04302614e+01, -5.58219124e+02,\n",
       "          3.38250133e+01,  3.95356846e+01]])"
      ]
     },
     "execution_count": 367,
     "metadata": {},
     "output_type": "execute_result"
    }
   ],
   "source": [
    "np.eye(5) * M"
   ]
  },
  {
   "cell_type": "code",
   "execution_count": 368,
   "metadata": {},
   "outputs": [
    {
     "data": {
      "text/plain": [
       "67.7474051084346"
      ]
     },
     "execution_count": 368,
     "metadata": {},
     "output_type": "execute_result"
    }
   ],
   "source": [
    "U1[1]"
   ]
  },
  {
   "cell_type": "code",
   "execution_count": 369,
   "metadata": {},
   "outputs": [
    {
     "data": {
      "text/plain": [
       "9"
      ]
     },
     "execution_count": 369,
     "metadata": {},
     "output_type": "execute_result"
    }
   ],
   "source": [
    "pow(3,2)"
   ]
  },
  {
   "cell_type": "code",
   "execution_count": 370,
   "metadata": {},
   "outputs": [
    {
     "data": {
      "text/plain": [
       "23"
      ]
     },
     "execution_count": 370,
     "metadata": {},
     "output_type": "execute_result"
    }
   ],
   "source": [
    "pow(38, -1, mod=97)"
   ]
  },
  {
   "cell_type": "code",
   "execution_count": 371,
   "metadata": {},
   "outputs": [
    {
     "data": {
      "text/plain": [
       "True"
      ]
     },
     "execution_count": 371,
     "metadata": {},
     "output_type": "execute_result"
    }
   ],
   "source": [
    "23 * 38 % 97 == 1"
   ]
  },
  {
   "cell_type": "markdown",
   "metadata": {},
   "source": [
    "#### Во втором случае рекуррентный алгоритм принимает вид:\n",
    "\\begin{equation}\\hat{\\vec{c}}(i)=\\hat{\\vec{c}}(i-1)+Г(i)\\vec{z}(i)(y(i)-\\hat{c}_{0}(i-1)u_{0}(i)-...-\\hat{c}_{4}(i-1)u_{4}(i)) \\\\\n",
    "Г(i)=Г(i-1)-\\frac{Г(i-1)\\vec{z}(i)\\vec{z}(i)^TГ(i-1)}{1+\\vec{z}^T(i)Г(i-1)\\vec{z}(i)} \\\\\n",
    "Г(0)=\\lambda I , \\lambda=0.1    \\\\\n",
    "\\hat{\\vec{c}}(0)=\\vec{c}_{0}\\end{equation}"
   ]
  },
  {
   "cell_type": "code",
   "execution_count": 372,
   "metadata": {},
   "outputs": [
    {
     "name": "stdout",
     "output_type": "stream",
     "text": [
      "[ 9.73642892 -0.97715205 -0.98670462  0.53238794  2.47039057]\n"
     ]
    }
   ],
   "source": [
    "# Ваш код здесь ...\n",
    "I = np.eye(5)\n",
    "lyambda = 0.1\n",
    "G = lyambda*I\n",
    "\n",
    "c_2 = np.array(range(N*5), dtype = np.double)\n",
    "c_2.shape = (N,5) \n",
    "c_2[0] = [1.9,-0.9,-0.8,0,2.5]\n",
    "\n",
    "i = 1\n",
    "while i<N:\n",
    "    z = np.asmatrix([1, U1[i], U2[i], U3[i], U4[i]]).transpose()\n",
    "    G = G - (G*z*z.getT()*G)/(1+z.getT()*G*z)\n",
    "    c_2[i] = c_2[i-1] + (G*z*(y[i]-c_2[i-1][0]-c_2[i-1][1]*U1[i]-c_2[i-1][2]*U2[i]-c_2[i-1][3]*U3[i]-c_2[i-1][4]*U4[i])).getT()\n",
    "    i = i + 1\n",
    "#plt.plot(c_2.transpose()[3])\n",
    "#plt.show()\n",
    "#c_2.transpose()\n",
    "print(c_2[N-1])\n",
    "\n"
   ]
  },
  {
   "cell_type": "code",
   "execution_count": 373,
   "metadata": {},
   "outputs": [
    {
     "data": {
      "image/png": "[encoded data removed]",
      "text/plain": [
       "<Figure size 432x288 with 1 Axes>"
      ]
     },
     "metadata": {
      "needs_background": "light"
     },
     "output_type": "display_data"
    }
   ],
   "source": [
    "plt.plot(c_2.transpose()[2])\n",
    "plt.show()\n",
    "#c_2.transpose()"
   ]
  },
  {
   "cell_type": "markdown",
   "metadata": {},
   "source": [
    "Сглаженная ошибка оценки вычисляется по формуле:\n",
    "\\begin{equation*}\n",
    "err_{сгл}=\\sqrt{\\frac{\\sum_{j=1}^{10}\\sum_{k=0}^4(\\hat{c}_{k}(i-j)-c_{k})^2}{10}} ; i=10,11,12...\n",
    "\\end{equation*}"
   ]
  },
  {
   "cell_type": "code",
   "execution_count": 374,
   "metadata": {},
   "outputs": [
    {
     "data": {
      "image/png": "[encoded data removed]",
      "text/plain": [
       "<Figure size 432x288 with 1 Axes>"
      ]
     },
     "metadata": {
      "needs_background": "light"
     },
     "output_type": "display_data"
    }
   ],
   "source": [
    "# Ваш код здесь ...\n",
    "err1 = np.array(range(N-10), dtype = np.double)\n",
    "err1.shape = (N-10, 1)\n",
    "err2 = np.array(range(N-10), dtype = np.double)\n",
    "err2.shape = (N-10, 1)\n",
    "c_ist = [c0,c1,c2,c3,c4]\n",
    "sqr1 = 0\n",
    "sqr2 = 0\n",
    "\n",
    "for i in range(10,N):\n",
    "    sqr1 = 0\n",
    "    sqr2 = 0\n",
    "    for j in range(1,11):\n",
    "        for k in range(0,5):\n",
    "            sqr1 += pow((c[i-j][k]-c_ist[k]),2)\n",
    "            sqr2 += pow((c_2[i-j][k]-c_ist[k]),2)\n",
    "    err1[i-10] = math.sqrt(sqr1/10)\n",
    "    err2[i-10] = math.sqrt(sqr2/10)\n",
    "plt.plot(err1)\n",
    "#plt.show()\n",
    "plt.plot(err2)\n",
    "plt.show()"
   ]
  },
  {
   "cell_type": "code",
   "execution_count": 346,
   "metadata": {},
   "outputs": [
    {
     "data": {
      "text/plain": [
       "[1.9, -0.9, -0.8, 0, 2.5]"
      ]
     },
     "execution_count": 346,
     "metadata": {},
     "output_type": "execute_result"
    }
   ],
   "source": [
    "c_ist"
   ]
  },
  {
   "cell_type": "code",
   "execution_count": 58,
   "metadata": {},
   "outputs": [
    {
     "data": {
      "text/plain": [
       "array([[  0.],\n",
       "       [  1.],\n",
       "       [  2.],\n",
       "       [  3.],\n",
       "       [  4.],\n",
       "       [  5.],\n",
       "       [  6.],\n",
       "       [  7.],\n",
       "       [  8.],\n",
       "       [  9.],\n",
       "       [ 10.],\n",
       "       [ 11.],\n",
       "       [ 12.],\n",
       "       [ 13.],\n",
       "       [ 14.],\n",
       "       [ 15.],\n",
       "       [ 16.],\n",
       "       [ 17.],\n",
       "       [ 18.],\n",
       "       [ 19.],\n",
       "       [ 20.],\n",
       "       [ 21.],\n",
       "       [ 22.],\n",
       "       [ 23.],\n",
       "       [ 24.],\n",
       "       [ 25.],\n",
       "       [ 26.],\n",
       "       [ 27.],\n",
       "       [ 28.],\n",
       "       [ 29.],\n",
       "       [ 30.],\n",
       "       [ 31.],\n",
       "       [ 32.],\n",
       "       [ 33.],\n",
       "       [ 34.],\n",
       "       [ 35.],\n",
       "       [ 36.],\n",
       "       [ 37.],\n",
       "       [ 38.],\n",
       "       [ 39.],\n",
       "       [ 40.],\n",
       "       [ 41.],\n",
       "       [ 42.],\n",
       "       [ 43.],\n",
       "       [ 44.],\n",
       "       [ 45.],\n",
       "       [ 46.],\n",
       "       [ 47.],\n",
       "       [ 48.],\n",
       "       [ 49.],\n",
       "       [ 50.],\n",
       "       [ 51.],\n",
       "       [ 52.],\n",
       "       [ 53.],\n",
       "       [ 54.],\n",
       "       [ 55.],\n",
       "       [ 56.],\n",
       "       [ 57.],\n",
       "       [ 58.],\n",
       "       [ 59.],\n",
       "       [ 60.],\n",
       "       [ 61.],\n",
       "       [ 62.],\n",
       "       [ 63.],\n",
       "       [ 64.],\n",
       "       [ 65.],\n",
       "       [ 66.],\n",
       "       [ 67.],\n",
       "       [ 68.],\n",
       "       [ 69.],\n",
       "       [ 70.],\n",
       "       [ 71.],\n",
       "       [ 72.],\n",
       "       [ 73.],\n",
       "       [ 74.],\n",
       "       [ 75.],\n",
       "       [ 76.],\n",
       "       [ 77.],\n",
       "       [ 78.],\n",
       "       [ 79.],\n",
       "       [ 80.],\n",
       "       [ 81.],\n",
       "       [ 82.],\n",
       "       [ 83.],\n",
       "       [ 84.],\n",
       "       [ 85.],\n",
       "       [ 86.],\n",
       "       [ 87.],\n",
       "       [ 88.],\n",
       "       [ 89.],\n",
       "       [ 90.],\n",
       "       [ 91.],\n",
       "       [ 92.],\n",
       "       [ 93.],\n",
       "       [ 94.],\n",
       "       [ 95.],\n",
       "       [ 96.],\n",
       "       [ 97.],\n",
       "       [ 98.],\n",
       "       [ 99.],\n",
       "       [100.],\n",
       "       [101.],\n",
       "       [102.],\n",
       "       [103.],\n",
       "       [104.],\n",
       "       [105.],\n",
       "       [106.],\n",
       "       [107.],\n",
       "       [108.],\n",
       "       [109.],\n",
       "       [110.],\n",
       "       [111.],\n",
       "       [112.],\n",
       "       [113.],\n",
       "       [114.],\n",
       "       [115.],\n",
       "       [116.],\n",
       "       [117.],\n",
       "       [118.],\n",
       "       [119.],\n",
       "       [120.],\n",
       "       [121.],\n",
       "       [122.],\n",
       "       [123.],\n",
       "       [124.],\n",
       "       [125.],\n",
       "       [126.],\n",
       "       [127.],\n",
       "       [128.],\n",
       "       [129.],\n",
       "       [130.],\n",
       "       [131.],\n",
       "       [132.],\n",
       "       [133.],\n",
       "       [134.],\n",
       "       [135.],\n",
       "       [136.],\n",
       "       [137.],\n",
       "       [138.],\n",
       "       [139.],\n",
       "       [140.],\n",
       "       [141.],\n",
       "       [142.],\n",
       "       [143.],\n",
       "       [144.],\n",
       "       [145.],\n",
       "       [146.],\n",
       "       [147.],\n",
       "       [148.],\n",
       "       [149.],\n",
       "       [150.],\n",
       "       [151.],\n",
       "       [152.],\n",
       "       [153.],\n",
       "       [154.],\n",
       "       [155.],\n",
       "       [156.],\n",
       "       [157.],\n",
       "       [158.],\n",
       "       [159.],\n",
       "       [160.],\n",
       "       [161.],\n",
       "       [162.],\n",
       "       [163.],\n",
       "       [164.],\n",
       "       [165.],\n",
       "       [166.],\n",
       "       [167.],\n",
       "       [168.],\n",
       "       [169.],\n",
       "       [170.],\n",
       "       [171.],\n",
       "       [172.],\n",
       "       [173.],\n",
       "       [174.],\n",
       "       [175.],\n",
       "       [176.],\n",
       "       [177.],\n",
       "       [178.],\n",
       "       [179.],\n",
       "       [180.],\n",
       "       [181.],\n",
       "       [182.],\n",
       "       [183.],\n",
       "       [184.],\n",
       "       [185.],\n",
       "       [186.],\n",
       "       [187.],\n",
       "       [188.],\n",
       "       [189.]])"
      ]
     },
     "execution_count": 58,
     "metadata": {},
     "output_type": "execute_result"
    }
   ],
   "source": [
    "# err1 = np.array(range(N-10), dtype = np.double)\n",
    "# err1.shape = (N-10, 1)\n",
    "# err1"
   ]
  },
  {
   "cell_type": "code",
   "execution_count": 59,
   "metadata": {},
   "outputs": [
    {
     "data": {
      "text/plain": [
       "199"
      ]
     },
     "execution_count": 59,
     "metadata": {},
     "output_type": "execute_result"
    }
   ],
   "source": [
    "range(10,N)[-1]"
   ]
  },
  {
   "cell_type": "code",
   "execution_count": null,
   "metadata": {},
   "outputs": [],
   "source": []
  }
 ],
 "metadata": {
  "kernelspec": {
   "display_name": "Python 3",
   "language": "python",
   "name": "python3"
  },
  "language_info": {
   "codemirror_mode": {
    "name": "ipython",
    "version": 3
   },
   "file_extension": ".py",
   "mimetype": "text/x-python",
   "name": "python",
   "nbconvert_exporter": "python",
   "pygments_lexer": "ipython3",
   "version": "3.8.5"
  }
 },
 "nbformat": 4,
 "nbformat_minor": 2
}
