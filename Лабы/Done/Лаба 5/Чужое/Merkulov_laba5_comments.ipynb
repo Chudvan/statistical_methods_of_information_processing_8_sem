{
 "cells": [
  {
   "cell_type": "markdown",
   "metadata": {},
   "source": [
    "### Лабораторная работа №5\n",
    "#### Идентификация параметров линейного регрессионного объекта при α− загрязненных шумах"
   ]
  },
  {
   "cell_type": "markdown",
   "metadata": {},
   "source": [
    "Пусть линейный регрессионный объект имеет вид:\n",
    "$$ \\large y(i)=с_{0}+с_{1}u_{1}(i)+...+с_{4}u_{4}(i)+\\eta(i) , $$ \n",
    "\n",
    "где шум, действующий на объект, принадлежит классу приближенно нормальных распределений:\n",
    "$ \\large f(\\eta) = (1-\\alpha)f_N(\\eta) + \\alpha g(\\eta) $ <br>\n",
    "$ \\large f_N(\\eta) = \\frac{1}{\\sqrt{2 \\pi} \\sigma_\\eta} exp(- \\frac{\\eta^2}{2 \\sigma^2_\\eta}) $ - нормальное распределение $ \\large N(0, \\sigma_\\eta)$, <br>\n",
    "$\\large \\alpha$ - вероятность появление выброса с рапределением $\\large g(\\eta)$ <br>\n",
    "$\\large g(\\eta)$ - вообще говоря какое-то распределение, но в данной лабораторной работе будет нормальным $ \\large N(0, \\sigma_\\eta (outlier))$, но его параметры отличны от $\\large f_N(\\eta)$"
   ]
  },
  {
   "cell_type": "code",
   "execution_count": 108,
   "metadata": {},
   "outputs": [],
   "source": [
    "# параметры объекта \n",
    "c0=5\n",
    "c1=2\n",
    "c2=10\n",
    "c3=17\n",
    "c4=14"
   ]
  },
  {
   "cell_type": "code",
   "execution_count": 109,
   "metadata": {},
   "outputs": [],
   "source": [
    "# количество измерений\n",
    "N=200"
   ]
  },
  {
   "cell_type": "markdown",
   "metadata": {},
   "source": [
    "#### Сгенерируем шум, принадлежащий классу приближенно нормальных распределений"
   ]
  },
  {
   "cell_type": "code",
   "execution_count": 110,
   "metadata": {},
   "outputs": [],
   "source": [
    "import numpy as np\n",
    "from scipy.stats import rv_continuous"
   ]
  },
  {
   "cell_type": "code",
   "execution_count": 111,
   "metadata": {},
   "outputs": [],
   "source": [
    "# класс для \"загрязненного\" распределения\n",
    "class gaussian_gen(rv_continuous):\n",
    "    \n",
    "    def _pdf(self, x, alpha, sigma_1, sigma_2):\n",
    "        \"Gaussian distribution\"\n",
    "        def gaussian(self, x, sigma):\n",
    "            return np.exp(-x**2 / 2. / sigma**2) / (np.sqrt(2.0 * np.pi)*sigma)\n",
    "        \n",
    "        return (1-alpha)*gaussian(self, x, sigma_1)+alpha*gaussian(self, x, sigma_2)\n",
    "\n",
    "gaussian = gaussian_gen(name='dirty_distrib')"
   ]
  },
  {
   "cell_type": "markdown",
   "metadata": {},
   "source": [
    "Зададим следующие параметры нашего загрязненного распределения для шума:"
   ]
  },
  {
   "cell_type": "code",
   "execution_count": 112,
   "metadata": {},
   "outputs": [],
   "source": [
    "alpha = 0.3\n",
    "sigma_1 = 0.5\n",
    "sigma_2 = 30\n",
    "Noise = gaussian.rvs(alpha, sigma_1, sigma_2, size=N)\n",
    "#print(Noise)"
   ]
  },
  {
   "cell_type": "markdown",
   "metadata": {},
   "source": [
    "#### Посмотрим на сгенерированный шум и увидим \"выбросы\" из другого распределения"
   ]
  },
  {
   "cell_type": "code",
   "execution_count": 113,
   "metadata": {},
   "outputs": [
    {
     "data": {
      "text/plain": [
       "200"
      ]
     },
     "execution_count": 113,
     "metadata": {},
     "output_type": "execute_result"
    }
   ],
   "source": [
    "len(Noise)"
   ]
  },
  {
   "cell_type": "code",
   "execution_count": 114,
   "metadata": {},
   "outputs": [],
   "source": [
    "import matplotlib.pyplot as plt\n",
    "%matplotlib inline"
   ]
  },
  {
   "cell_type": "code",
   "execution_count": 115,
   "metadata": {},
   "outputs": [
    {
     "data": {
      "image/png": "[encoded data removed]",
      "text/plain": [
       "<Figure size 432x288 with 1 Axes>"
      ]
     },
     "metadata": {
      "needs_background": "light"
     },
     "output_type": "display_data"
    }
   ],
   "source": [
    "plt.plot(Noise)\n",
    "plt.grid()"
   ]
  },
  {
   "cell_type": "markdown",
   "metadata": {},
   "source": [
    "#### Зададим параметры входов объекта и смоделируем выход объекта"
   ]
  },
  {
   "cell_type": "code",
   "execution_count": 116,
   "metadata": {},
   "outputs": [],
   "source": [
    "#Ваш код здесь\n",
    "Avg_U1=1\n",
    "Var_U1=50\n",
    "Avg_U2=1\n",
    "Var_U2=50\n",
    "Avg_U3=1\n",
    "Var_U3=50\n",
    "Avg_U4=1\n",
    "Var_U4=50"
   ]
  },
  {
   "cell_type": "code",
   "execution_count": 117,
   "metadata": {},
   "outputs": [],
   "source": [
    "#Ваш код здесь\n",
    "U1=np.random.normal(Avg_U1, Var_U1, N)\n",
    "U2=np.random.normal(Avg_U2, Var_U2, N)\n",
    "U3=np.random.normal(Avg_U3, Var_U3, N)\n",
    "U4=np.random.normal(Avg_U4, Var_U4, N)"
   ]
  },
  {
   "cell_type": "code",
   "execution_count": 152,
   "metadata": {},
   "outputs": [
    {
     "data": {
      "text/plain": [
       "array([-6.74510899e+02,  5.88735845e+02, -4.01004176e+02,  1.87484768e+03,\n",
       "        5.42973364e+02, -4.57740989e+02, -3.49940630e+02, -1.12143957e+03,\n",
       "       -2.64340362e+02, -1.34595598e+03, -1.16050248e+03, -1.40635107e+03,\n",
       "        1.51596835e+02, -2.02217520e+03, -1.14335775e+03,  1.06843020e+03,\n",
       "       -2.87183663e+02, -1.98523710e+02,  8.50245049e+02, -4.15211751e+02,\n",
       "       -1.98959953e+02,  1.59434869e+03,  1.09621770e+03,  3.55788521e+02,\n",
       "       -3.97332156e+02,  6.89739112e+02, -6.53678511e+02,  4.51491671e+02,\n",
       "        9.82177020e+02,  4.47391228e+01,  8.77152091e+02,  6.43399082e+02,\n",
       "       -3.51866070e+02,  7.23959635e+02,  2.73727898e+03, -2.11577454e+02,\n",
       "        7.27173487e+02,  1.18990681e+03,  2.85670924e+03,  3.80496236e+02,\n",
       "       -6.66534314e+02,  1.64705859e+03,  1.51047920e+03, -1.70576493e+02,\n",
       "       -5.88536749e+02, -1.23606773e+03,  2.93612996e+02, -2.27657036e+03,\n",
       "       -7.92319574e+02,  1.71365725e+03,  4.13218669e+02,  7.45979509e+01,\n",
       "        4.02227701e+02,  1.12441317e+03,  1.08143688e+03,  1.14853786e+03,\n",
       "       -2.02438781e+03,  1.99949796e+03, -2.23330755e+03, -8.77969661e+00,\n",
       "       -1.61625838e+02,  1.19546041e+03, -1.38923654e+03, -3.25441491e+03,\n",
       "        3.02047736e+02, -4.05348868e+02,  1.01653624e+02, -1.11679819e+03,\n",
       "        6.15714053e+02, -2.40968494e+02, -5.97312016e+02,  7.44918933e+02,\n",
       "       -1.29281836e+03, -1.86166284e+03, -1.65469981e+02, -1.67696987e+03,\n",
       "        1.88452171e+03, -1.99134952e+02, -1.96935171e+03, -1.17127265e+03,\n",
       "        8.24570448e+02, -7.89426787e+02,  4.48923269e+02, -8.73930625e+02,\n",
       "       -2.20209999e+03,  1.39531406e+03, -1.39383410e+03,  1.53547927e+02,\n",
       "       -1.07121293e+03, -1.69703174e+03,  1.99094969e+03, -1.90417376e+03,\n",
       "       -2.50064073e+03, -6.69609198e+02, -5.61811413e+02, -2.27709436e+03,\n",
       "       -6.71879912e+02,  1.36096969e+03,  5.33075551e+02,  1.19948874e+03,\n",
       "       -6.11246357e+02, -1.89337411e+03, -8.59529876e+01,  3.29688200e+02,\n",
       "        4.46806212e+02,  3.19202223e+02, -1.10799062e+03, -2.56468305e+03,\n",
       "       -8.77310586e+02,  1.94402058e+03,  1.96472532e+02, -8.28107279e+01,\n",
       "        6.02529407e+02, -3.38232684e+03, -5.45836335e+02, -1.09422920e+03,\n",
       "        1.46609002e+03, -1.29315856e+03, -5.48920488e+02,  3.65548322e+02,\n",
       "        3.40456134e+02,  1.52092653e+03, -4.09959556e+02, -1.40655220e+03,\n",
       "        9.20780695e+02,  2.42179567e+02, -1.07123105e+03,  2.10407955e+03,\n",
       "        1.54376121e+02,  4.22744233e+02,  5.14520875e+02,  8.87024706e+02,\n",
       "        1.99154479e+03, -1.49703228e+03,  4.41520268e+02,  7.78438579e+01,\n",
       "       -3.11339232e+02, -2.81215327e+02,  1.95511213e+03,  6.40414804e+02,\n",
       "       -7.14850236e+02, -5.82116620e+02, -3.28379585e+03,  5.94321697e+02,\n",
       "       -1.12442479e+03,  1.39386431e+03,  1.08005125e+02,  5.96459140e+02,\n",
       "       -1.13731979e+03, -1.36857334e+03, -4.41803568e+01,  9.68724630e+02,\n",
       "        7.92589135e+02,  2.54618891e+02,  2.18343214e+02,  1.43958007e+03,\n",
       "        9.19464843e+02,  1.48783239e+03,  2.83202082e+03,  2.13493074e+03,\n",
       "        1.31295849e+03,  7.32767702e+01,  1.09254847e+03, -1.29972101e+03,\n",
       "       -1.56586081e+03,  1.30625462e+03,  6.51976259e+02,  7.89060545e+02,\n",
       "       -7.45134962e+02,  7.93846590e+02, -1.91992341e+03, -4.21175284e+01,\n",
       "       -2.02968438e+03, -8.97478341e+02, -3.58623307e+02, -9.41951526e+02,\n",
       "       -2.53254511e+02,  1.11668049e+03,  2.67829655e+03,  7.13062976e+02,\n",
       "        1.18399796e+03, -8.10963780e+02,  4.60585344e+02,  1.12419973e+03,\n",
       "        1.36191535e+03,  8.87233182e+01, -4.90136407e+02, -9.64937084e+02,\n",
       "        1.51770008e+02, -4.13786180e+00, -2.07090037e+03, -7.63601077e+02,\n",
       "       -3.00380781e+00,  2.80445179e+03,  6.22234609e+02,  1.00245504e+03,\n",
       "       -2.64831294e+03, -1.02444018e+03,  7.11905793e+02,  2.30650569e+03])"
      ]
     },
     "execution_count": 152,
     "metadata": {},
     "output_type": "execute_result"
    }
   ],
   "source": [
    "# моделирование выхода объекта\n",
    "y=c0+c1*U1+c2*U2+c3*U3+c4*U4+Noise\n",
    "y"
   ]
  },
  {
   "cell_type": "code",
   "execution_count": 119,
   "metadata": {},
   "outputs": [
    {
     "data": {
      "image/png": "[encoded data removed]",
      "text/plain": [
       "<Figure size 432x288 with 1 Axes>"
      ]
     },
     "metadata": {
      "needs_background": "light"
     },
     "output_type": "display_data"
    }
   ],
   "source": [
    "plt.plot(y)\n",
    "plt.grid()"
   ]
  },
  {
   "cell_type": "markdown",
   "metadata": {},
   "source": [
    "### Эффективность алгоритма Хубера vs Рекуррентным МНК при различных статистических характеристиках распределений"
   ]
  },
  {
   "cell_type": "markdown",
   "metadata": {},
   "source": [
    "В лабораторной работе требуется:\n",
    "\n",
    "1. Реализовать __class Huber__ c методами: <br>\n",
    "   * в конструкторе класса небходимо задать:<br>\n",
    "     1) λ в формуле задания начального приближения матрицы Г(0) = λ*I <br>\n",
    "    2) параметр $ \\xi $, участвующий в функции потерь Хьюбера, в зависимости от вероятности появления выброса $ \\alpha $ (значения которого приведены в описании ЛР) <br><br>\n",
    "   *   __def fit(X, y, c0)__ - метод реализует алгоритм итерационного оценивания параметов объекта с использованием функции потерь Хьюбера:<br>\n",
    "        <br>\n",
    "        Input:<br>\n",
    "            X - матрица входов объекта, [X] = m x N <br>\n",
    "            y - вектор выходов объекта, [y] = N <br>\n",
    "            с0 - вектор начального приближения, [c0] = m <br>\n",
    "        <br>       \n",
    "   * __def get_coefs()__ - метод возвращает массив коэффициентов оценок вектора параметров объекта, получаемого на каждом новом шаге измерений<br>\n",
    "        <br>\n",
    "        Output:<br>\n",
    "            c_estim_huber - массив оценок параметров объекта, полученный в результате работы метода fit<br><br>\n",
    "2. Реализовать __class RecurrentMLS__ с методами: <br>\n",
    "\n",
    "    * в конструкторе класса небходимо задать:<br>\n",
    "     1) λ в формуле задания начального приближения матрицы Г(0) = λ*I <br><br>\n",
    "\n",
    "    * __def fit(X, y, c0)__ - метод реализует алгоритм итерационного оценивания параметов объекта с использованием квадратичной функции потерь (см. 2 лабораторную работу):<br>\n",
    "         <br>\n",
    "     Input:<br>\n",
    "             X - матрица входов объекта, [X] = m x N<br>\n",
    "             y - вектор выходов объекта, [y] = N<br>\n",
    "             с0 - вектор начального приближения, [c0] = m+1<br><br>\n",
    "        \n",
    "    * __def get_coefs()__ - метод возвращает массив коэффициентов оценок вектора параметров объекта, получаемого на каждом новом шаге измерений<br>\n",
    "        <br>\n",
    "        Output:<br>\n",
    "            c_estim_recMLS - массив оценок параметров объекта, полученный в результате работы метода fit<br><br>        \n",
    "3. Реализовать функцию __smooth_errors(c_estim, c_true)__  - вычисляет сглаженную ошибку оценки по 10 измерениям. <br>\n",
    "         Input: \n",
    "             c_estim - массив оценок параметров объекта, [c_estim] = m+1 x N\n",
    "             c_true - вектор истинных параметров объекта, [c_true] = m+1 \n",
    "         Output:\n",
    "             err - массив сглаженных ошибок оценки\n",
    "              \n",
    "4. Провести исследование эффективности алгоритма Хубера по сравнению с рекуррентным МНК алгоритмом при следующих статистических характеристиках распределений:<br>\n",
    "    * $ \\sigma_\\eta $ = 0.5    $\\alpha$ = 0.1    $\\sigma_\\eta (outlier)$ = 10;\n",
    "    * $ \\sigma_\\eta $ = 0.5    $\\alpha$ = 0.1    $\\sigma_\\eta (outlier)$ = 50;\n",
    "    * $ \\sigma_\\eta $ = 0.5    $\\alpha$ = 0.1    $\\sigma_\\eta (outlier)$ = 100;\n",
    "    * $ \\sigma_\\eta $ = 0.5    $\\alpha$ = 0.3    $\\sigma_\\eta (outlier)$ = 10;\n",
    "    * $ \\sigma_\\eta $ = 0.5    $\\alpha$ = 0.3    $\\sigma_\\eta (outlier)$ = 50;\n",
    "    * $ \\sigma_\\eta $ = 0.5    $\\alpha$ = 0.3    $\\sigma_\\eta (outlier)$ = 100. <br><br>\n",
    "5. Построить графики сходимости сглаженной ошибки оценки по двум алгоритмам: алгоритм с использованием теоремы Хубера и рекуррентный алгоритм, соответствующий методу наименьших квадратов. Сдалать выводы."
   ]
  },
  {
   "cell_type": "code",
   "execution_count": 120,
   "metadata": {},
   "outputs": [],
   "source": [
    "# ksi = 0.9\n",
    "# sigma = sigma_1\n",
    "# delta=ksi*sigma\n",
    "# from sympy import *\n",
    "# var = Symbol('x')\n",
    "# alpha = Symbol('alpha')\n",
    "# delta = Symbol('delta')\n",
    "# sigma = Symbol('sigma')\n",
    "# If = 2*(1-alpha)*(delta/sigma**2)*exp(-(delta/sigma)**2/(2*sigma**2))/(sigma*sqrt(2*pi))+(1-alpha)*(1/(sqrt(2*pi)*sigma**5))*integrate(var**2*exp(-var**2/(2*sigma**2)),(var,-delta,delta))\n",
    "# If\n",
    "# If.n()"
   ]
  },
  {
   "cell_type": "code",
   "execution_count": 121,
   "metadata": {},
   "outputs": [],
   "source": [
    "# from sympy import *\n",
    "# #x, y = Symbol('x alpha delta sigma')\n",
    "# x = Symbol('x')\n",
    "# alpha = Symbol('alpha')\n",
    "# alpha"
   ]
  },
  {
   "cell_type": "code",
   "execution_count": 135,
   "metadata": {},
   "outputs": [],
   "source": [
    "from sympy import *\n",
    "\n",
    "class Huber():\n",
    "    \n",
    "    def __init__(self, lambd, ksi, alpha, sigma):\n",
    "        self.lambd = lambd\n",
    "        self.ksi = ksi\n",
    "        self.alpha = alpha\n",
    "        self.sigma = sigma\n",
    "        \n",
    "    def fit(self,x,y,c0):\n",
    "        self.c = []\n",
    "        self.c.append(c0)\n",
    "        N=len(y)\n",
    "        n=len(x)\n",
    "        #print(n)\n",
    "        G = np.eye(n)*self.lambd\n",
    "        delta=self.ksi*self.sigma\n",
    "        var = Symbol('x')\n",
    "        If = 2*(1-self.alpha)*(delta/self.sigma**2)*exp(-delta/self.sigma**2/(2*self.sigma**2))/(self.sigma*sqrt(2*pi))+(1-self.alpha)*(1/(sqrt(2*pi)*self.sigma**5))*integrate(var**2*exp(-var**2/(2*self.sigma**2)),(var,-delta,delta))\n",
    "        print(type(If))\n",
    "        for i in range(1,N):\n",
    "            z = np.asmatrix([1, x[0][i], x[1][i], x[2][i], x[3][i]]).transpose()\n",
    "            G = G - G*z*z.transpose()*G/(1/If.n()+z.transpose()*G*z)\n",
    "            #print('z.transpose()*c0', z.transpose()*c0)\n",
    "            eps = y[i] - float(z.transpose()*c0)\n",
    "            if (eps <= -delta):\n",
    "                d = -delta\n",
    "            elif (eps >= delta):\n",
    "                d = delta\n",
    "            else:\n",
    "                d = eps\n",
    "            c0 = c0 + d*G.dot(z)\n",
    "            self.c.append(c0)\n",
    "            \n",
    "    def get_coefs(self):\n",
    "        return self.c"
   ]
  },
  {
   "cell_type": "code",
   "execution_count": 136,
   "metadata": {},
   "outputs": [
    {
     "ename": "TypeError",
     "evalue": "'function' object cannot be interpreted as an integer",
     "output_type": "error",
     "traceback": [
      "\u001b[0;31m---------------------------------------------------------------------------\u001b[0m",
      "\u001b[0;31mTypeError\u001b[0m                                 Traceback (most recent call last)",
      "\u001b[0;32m<ipython-input-136-8889d8e151bd>\u001b[0m in \u001b[0;36m<module>\u001b[0;34m\u001b[0m\n\u001b[0;32m----> 1\u001b[0;31m \u001b[0mlist\u001b[0m\u001b[0;34m(\u001b[0m\u001b[0mrange\u001b[0m\u001b[0;34m(\u001b[0m\u001b[0;36m1\u001b[0m\u001b[0;34m,\u001b[0m\u001b[0mN\u001b[0m\u001b[0;34m)\u001b[0m\u001b[0;34m)\u001b[0m\u001b[0;34m[\u001b[0m\u001b[0;34m-\u001b[0m\u001b[0;36m1\u001b[0m\u001b[0;34m]\u001b[0m\u001b[0;34m\u001b[0m\u001b[0;34m\u001b[0m\u001b[0m\n\u001b[0m",
      "\u001b[0;31mTypeError\u001b[0m: 'function' object cannot be interpreted as an integer"
     ]
    }
   ],
   "source": [
    "list(range(1,N))[-1]"
   ]
  },
  {
   "cell_type": "code",
   "execution_count": 137,
   "metadata": {},
   "outputs": [
    {
     "data": {
      "text/plain": [
       "array([[1., 0., 0., 0., 0.],\n",
       "       [0., 1., 0., 0., 0.],\n",
       "       [0., 0., 1., 0., 0.],\n",
       "       [0., 0., 0., 1., 0.],\n",
       "       [0., 0., 0., 0., 1.]])"
      ]
     },
     "execution_count": 137,
     "metadata": {},
     "output_type": "execute_result"
    }
   ],
   "source": [
    "np.eye(5)"
   ]
  },
  {
   "cell_type": "code",
   "execution_count": 153,
   "metadata": {},
   "outputs": [],
   "source": [
    "class RecurrentMLS():\n",
    "    \n",
    "    def __init__(self,lambd):\n",
    "        self.lambd=lambd\n",
    "    \n",
    "    def fit(self,x, y, c0):\n",
    "        self.c = []\n",
    "        self.c.append(c0)\n",
    "        N = len(y)\n",
    "        n=len(x)\n",
    "        H=self.lambd*np.eye(n)\n",
    "        for i in range(1,N):\n",
    "            z = np.asmatrix([1, x[1][i], x[2][i], x[3][i], x[4][i]]).transpose()\n",
    "            H = H - H*z*z.transpose()*H/(1+z.transpose()*H*z)\n",
    "            c0=c0+H*z*(y[i]-z.transpose()*c0)\n",
    "            self.c.append(c0)\n",
    "            \n",
    "    def get_coefs(self):\n",
    "        return self.c"
   ]
  },
  {
   "cell_type": "code",
   "execution_count": 154,
   "metadata": {},
   "outputs": [
    {
     "data": {
      "text/plain": [
       "5"
      ]
     },
     "execution_count": 154,
     "metadata": {},
     "output_type": "execute_result"
    }
   ],
   "source": [
    "U = np.vstack(([1]*200,U1,U2,U3,U4))\n",
    "len(U)"
   ]
  },
  {
   "cell_type": "code",
   "execution_count": 157,
   "metadata": {},
   "outputs": [
    {
     "name": "stdout",
     "output_type": "stream",
     "text": [
      "<class 'sympy.core.add.Add'>\n"
     ]
    }
   ],
   "source": [
    "U = np.vstack(([1]*200,U1,U2,U3,U4))\n",
    "c_0=np.asmatrix((4.7,2.3,9.8,17.3,13.8)).transpose()\n",
    "\n",
    "huber = Huber(0.1,0.9,alpha,sigma_1)\n",
    "huber.fit(U,y,c_0)\n",
    "huber_coef = huber.get_coefs()\n",
    "\n",
    "recurrentMLS = RecurrentMLS(0.1)\n",
    "recurrentMLS.fit(U,y,c_0)\n",
    "recurrentMLS_coefs = recurrentMLS.get_coefs()"
   ]
  },
  {
   "cell_type": "code",
   "execution_count": 156,
   "metadata": {},
   "outputs": [
    {
     "data": {
      "image/png": "[encoded data removed]",
      "text/plain": [
       "<Figure size 720x360 with 1 Axes>"
      ]
     },
     "metadata": {
      "needs_background": "light"
     },
     "output_type": "display_data"
    }
   ],
   "source": [
    "def smooth_errors(c_estim,c_true):\n",
    "    N=200\n",
    "    i=10\n",
    "    err=[]\n",
    "    while i<N:\n",
    "        cur_sum=0\n",
    "        for j in range(10):\n",
    "            for k in range(4):\n",
    "                cur_sum+=(float(c_estim[i-j][k])-float(c_true[k]))**2\n",
    "        err.append((cur_sum/10)**0.5)\n",
    "        i=i+1\n",
    "    return err\n",
    "\n",
    "err1 = smooth_errors(huber_coef, [c0,c1,c2,c3,c4])\n",
    "err2 = smooth_errors(recurrentMLS_coefs, [c0,c1,c2,c3,c4])\n",
    "t = [i for i in range(10,200)]\n",
    "\n",
    "plt.rcParams['figure.figsize'] = [10, 5]\n",
    "plt.plot(t,err1,label='Huber')\n",
    "plt.plot(t,err2,label='MLS')\n",
    "plt.legend()\n",
    "plt.grid()"
   ]
  },
  {
   "cell_type": "markdown",
   "metadata": {},
   "source": [
    "### Hints"
   ]
  },
  {
   "cell_type": "markdown",
   "metadata": {},
   "source": [
    "1. Рекуррентный алгоритм при функции потерь Хьюбера имеет вид:\n",
    "\\begin{equation} \\large \\hat{\\vec{c}}(i)=\\hat{\\vec{c}}(i-1)+Г(i)d(\\varepsilon(i, \\hat{\\vec{c}}(i-1)))\\vec{z}(i) \\\\\n",
    "\\large Г(i)=Г(i-1)-\\frac{Г(i-1)\\vec{z}(i)\\vec{z}(i)^TГ(i-1)}{I^{-1}_F+\\vec{z}^T(i)Г(i-1)\\vec{z}(i)} \\\\\n",
    "\\large Г(0)=\\lambda I, \\lambda >> 1,  \\hat{\\vec{c}}(0)=\\vec{c}_{0}\\end{equation}"
   ]
  },
  {
   "cell_type": "markdown",
   "metadata": {},
   "source": [
    "где $ \\large  \\Delta = \\xi\\sigma_\\eta$\n",
    "\\begin{equation} \\large d(\\varepsilon(i, \\hat{\\vec{c}}(i-1)))=\\frac{dF(\\varepsilon(i, \\hat{\\vec{c}}(i-1)))}{d\\varepsilon}|_{\\varepsilon = \\varepsilon(i, \\hat{\\vec{c}}(i-1)))}= \\left\\{\n",
    "    \\begin{array}\\\\\n",
    "        -\\Delta, & \\varepsilon(i) \\leq -\\Delta \\\\\n",
    "        \\varepsilon(i, \\hat{\\vec{c}}(i-1))), & -\\Delta \\leq |\\varepsilon(i)| \\leq \\Delta\\\\\n",
    "        \\Delta, &  \\varepsilon(i) \\geq \\Delta\n",
    "    \\end{array}  \n",
    "\\right.\\end{equation}"
   ]
  },
  {
   "cell_type": "markdown",
   "metadata": {},
   "source": [
    "\\begin{equation} \\large  I_F=2(1-\\alpha)\\frac{\\Delta}{\\sigma^2_\\eta}f_N(\\frac{\\Delta}{\\sigma_\\eta})+(1-\\alpha)\\frac{1}{\\sqrt{2\\pi}\\sigma_\\eta}\\frac{1}{\\sigma^4_\\eta}\\int_{-\\Delta}^\\Delta \\eta^2exp(\\frac{-\\eta^2}{2\\sigma^2_\\eta})d\\eta\\end{equation}"
   ]
  },
  {
   "cell_type": "markdown",
   "metadata": {},
   "source": [
    "2. Для вычислении информации Фишера можно использовать модуль __sympy__ (https://docs.sympy.org/latest/modules/integrals/integrals.html)"
   ]
  },
  {
   "cell_type": "code",
   "execution_count": null,
   "metadata": {},
   "outputs": [],
   "source": []
  },
  {
   "cell_type": "code",
   "execution_count": null,
   "metadata": {},
   "outputs": [],
   "source": []
  },
  {
   "cell_type": "code",
   "execution_count": null,
   "metadata": {},
   "outputs": [],
   "source": []
  }
 ],
 "metadata": {
  "kernelspec": {
   "display_name": "Python 3",
   "language": "python",
   "name": "python3"
  },
  "language_info": {
   "codemirror_mode": {
    "name": "ipython",
    "version": 3
   },
   "file_extension": ".py",
   "mimetype": "text/x-python",
   "name": "python",
   "nbconvert_exporter": "python",
   "pygments_lexer": "ipython3",
   "version": "3.8.5"
  },
  "widgets": {
   "application/vnd.jupyter.widget-state+json": {
    "state": {},
    "version_major": 2,
    "version_minor": 0
   }
  }
 },
 "nbformat": 4,
 "nbformat_minor": 2
}
