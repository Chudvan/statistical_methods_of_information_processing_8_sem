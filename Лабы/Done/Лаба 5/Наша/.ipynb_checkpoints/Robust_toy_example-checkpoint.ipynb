{
 "cells": [
  {
   "cell_type": "code",
   "execution_count": 1,
   "metadata": {},
   "outputs": [],
   "source": [
    "import numpy as np\n",
    "import matplotlib.pyplot as plt\n",
    "import random\n",
    "from scipy import stats\n",
    "%matplotlib inline"
   ]
  },
  {
   "cell_type": "markdown",
   "metadata": {},
   "source": [
    "## Робастное оценивание (Robust estimation)\n",
    "\n",
    "Термин \"робастность\" был введен для выделения класса статистических процедур, слабочувствительных к небольшим изменениям начальных предположений. \n",
    "\n",
    "Например, никто не предполагал, что в выборке окажутся выбросы. Более того, сразу утверждать является ли выброс - редким/экстремальным наблюдением или явной ошибкой не представяется возможным. \n",
    "\n",
    "Но допустим, задачу получать оценки для меры центральной тенденции и масштаба распределения данных никто не отменял. \n",
    "Тогда каким образом это можно сделать?"
   ]
  },
  {
   "cell_type": "code",
   "execution_count": 46,
   "metadata": {},
   "outputs": [
    {
     "data": {
      "image/png": "[encoded data removed]",
      "text/plain": [
       "<Figure size 432x288 with 1 Axes>"
      ]
     },
     "metadata": {
      "needs_background": "light"
     },
     "output_type": "display_data"
    }
   ],
   "source": [
    "# Наша выборка\n",
    "\n",
    "x = [-2.21, -1.84, -0.95, -0.91, -0.36, -0.19, -0.11, -0.1, 0.18, 0.30, \\\n",
    "     0.43, 5.51, 0.64, 0.67, 0.93, 1.22, 1.35, 1.73, 9.8, 12.6]\n",
    "\n",
    "n = len(x)\n",
    "\n",
    "random.shuffle(x)\n",
    "\n",
    "plt.plot(x, 'o')\n",
    "plt.grid()"
   ]
  },
  {
   "cell_type": "markdown",
   "metadata": {},
   "source": [
    "### Среднее арифметическое (не робастная оценка)\n",
    "$\\overline{X} = \\frac{1}{n} \\sum_{i=0}^{n} X_i$"
   ]
  },
  {
   "cell_type": "code",
   "execution_count": 47,
   "metadata": {},
   "outputs": [
    {
     "name": "stdout",
     "output_type": "stream",
     "text": [
      "1.4345\n"
     ]
    }
   ],
   "source": [
    "mean = np.mean(x)\n",
    "print(round(mean, 4))"
   ]
  },
  {
   "cell_type": "markdown",
   "metadata": {},
   "source": [
    "### Медиана\n",
    "$\\tilde{X} = median(X) $"
   ]
  },
  {
   "cell_type": "code",
   "execution_count": 48,
   "metadata": {},
   "outputs": [
    {
     "name": "stdout",
     "output_type": "stream",
     "text": [
      "0.365\n"
     ]
    }
   ],
   "source": [
    "median = np.median(x)\n",
    "print(round(median, 4))"
   ]
  },
  {
   "cell_type": "markdown",
   "metadata": {},
   "source": [
    "### Усеченное среднее\n",
    "$\\alpha$ - доля выбросов в выборке, $0<= \\alpha <= 0.5$ <br>\n",
    "$ n $ - размер выборки, <br>\n",
    "$ r = [\\alpha n]$ - наибольшее целое, меньшее или равное $\\alpha n$, <br>\n",
    "$ g = \\alpha n - r$ - дробная часть $\\alpha n$\n",
    "Тогда усеченное среднее вычисляется как:\n",
    "$$ \\bar X_T(\\alpha) = \\frac{1}{n(1-2\\alpha)}[(1-g)(X_{(r+1)}+X_{(n-r)})+\\sum_{i=r+2}^{n-r-1} X_{(i)}]$$"
   ]
  },
  {
   "cell_type": "code",
   "execution_count": 49,
   "metadata": {},
   "outputs": [
    {
     "name": "stdout",
     "output_type": "stream",
     "text": [
      "alpha \t|\t trim_mean\n",
      "0.05 \t|\t 1.0167\n",
      "0.1 \t|\t 0.6462\n",
      "0.15 \t|\t 0.4129\n",
      "0.2 \t|\t 0.4133\n"
     ]
    }
   ],
   "source": [
    "print('alpha', '\\t|\\t', 'trim_mean')\n",
    "for alpha in [0.05, 0.1, 0.15, 0.2]:\n",
    "    print(alpha, '\\t|\\t',round(stats.trim_mean(x, alpha), 4))"
   ]
  },
  {
   "cell_type": "code",
   "execution_count": 50,
   "metadata": {},
   "outputs": [
    {
     "data": {
      "image/png": "[encoded data removed]",
      "text/plain": [
       "<Figure size 432x288 with 1 Axes>"
      ]
     },
     "metadata": {
      "needs_background": "light"
     },
     "output_type": "display_data"
    }
   ],
   "source": [
    "plt.plot(x, 'bo')\n",
    "plt.axhline(y=mean, color='r', linestyle='-', label='mean')\n",
    "plt.axhline(y=median, color='g', linestyle='--', label='median')\n",
    "plt.legend()\n",
    "plt.grid()"
   ]
  },
  {
   "cell_type": "markdown",
   "metadata": {},
   "source": [
    "### Среднеквадратическое отклонение (СКО)\n",
    "$ \\hat \\sigma = \\sqrt{\\frac{1}{n-1}\\sum_{i=0}^{n} (X_i - \\overline X)^2}$"
   ]
  },
  {
   "cell_type": "code",
   "execution_count": 51,
   "metadata": {},
   "outputs": [
    {
     "name": "stdout",
     "output_type": "stream",
     "text": [
      "3.623\n"
     ]
    }
   ],
   "source": [
    "std = np.std(x)\n",
    "print(round(std, 4))"
   ]
  },
  {
   "cell_type": "markdown",
   "metadata": {},
   "source": [
    "### MAD - median absolute deviation\n",
    "$MAD = median(|X_i-\\tilde{X}|), \\tilde{X} = median(X)$"
   ]
  },
  {
   "cell_type": "code",
   "execution_count": 52,
   "metadata": {},
   "outputs": [
    {
     "name": "stdout",
     "output_type": "stream",
     "text": [
      "0.79\n"
     ]
    }
   ],
   "source": [
    "mad = np.median([abs(x_i - median) for x_i in x])\n",
    "print(round(mad, 4))"
   ]
  },
  {
   "cell_type": "markdown",
   "metadata": {},
   "source": [
    "### Связь СКО и MAD\n",
    "\n",
    "$ \\hat \\sigma = k * MAD $ <br>\n",
    "$ k \\approx 1.4826 $ для нормального распределения "
   ]
  },
  {
   "cell_type": "code",
   "execution_count": 53,
   "metadata": {},
   "outputs": [
    {
     "data": {
      "image/png": "[encoded data removed]",
      "text/plain": [
       "<Figure size 432x288 with 2 Axes>"
      ]
     },
     "metadata": {
      "needs_background": "light"
     },
     "output_type": "display_data"
    }
   ],
   "source": [
    "#t = np.linspace(0, len(x))\n",
    "\n",
    "mean_plus_std = np.empty(n); mean_plus_std.fill(mean+std)\n",
    "mean_minus_std = np.empty(n); mean_minus_std.fill(mean-std)\n",
    "\n",
    "k = 1.4826\n",
    "med_plus_mad = np.empty(n); med_plus_mad.fill(median+k*mad)\n",
    "med_minus_mad = np.empty(n); med_minus_mad.fill(median-k*mad)\n",
    "\n",
    "fig, (ax1, ax2) = plt.subplots(2, 1, sharex=True)\n",
    "\n",
    "ax1.set_title('Mean & Std')\n",
    "ax1.plot(x, 'o')\n",
    "ax1.axhline(y=mean, color='r', linestyle='-', label='mean')\n",
    "ax1.fill_between(np.arange(n), mean_plus_std, mean_minus_std, color='C0', alpha=0.5)\n",
    "ax1.grid(True)\n",
    "\n",
    "ax2.set_title('Median & MAD. Robust estimators')\n",
    "ax2.plot(x, 'o')\n",
    "ax2.axhline(y=median, color='r', linestyle='-', label='mean')\n",
    "ax2.fill_between(np.arange(n),med_plus_mad, med_minus_mad, color='C1', alpha=0.5)\n",
    "ax2.grid(True)\n",
    "\n",
    "fig.tight_layout()"
   ]
  },
  {
   "cell_type": "code",
   "execution_count": null,
   "metadata": {},
   "outputs": [],
   "source": []
  }
 ],
 "metadata": {
  "kernelspec": {
   "display_name": "Python 3",
   "language": "python",
   "name": "python3"
  },
  "language_info": {
   "codemirror_mode": {
    "name": "ipython",
    "version": 3
   },
   "file_extension": ".py",
   "mimetype": "text/x-python",
   "name": "python",
   "nbconvert_exporter": "python",
   "pygments_lexer": "ipython3",
   "version": "3.8.5"
  }
 },
 "nbformat": 4,
 "nbformat_minor": 2
}
